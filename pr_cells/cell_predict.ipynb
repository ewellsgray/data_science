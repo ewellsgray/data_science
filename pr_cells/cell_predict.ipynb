{
 "cells": [
  {
   "cell_type": "markdown",
   "metadata": {},
   "source": [
    "# Overview -- Cone and Rod Photoreceptor Classification \n",
    "The aim here is to perform binary classification on cells identified in \n",
    "Adaptive Optics Scanning Laser Ophthalmoscopy (AO-SLO) images of the human retina. Specifically, I would like to classifity photoreceptor cells as either cones or rods. Cones give rise to color perception, while rods visualize general light intensity levels. Cones tend to be much larger than rods, but rods are much greater in number (although this varies depending on where on the retina we are imaging).\n",
    "\n",
    "This classification is typically performed manually, which is a slow and tedious task; \n",
    "it is also highly subjective. It is common for results from different trained reviewers to differ by >10%. \n",
    "Hence an automated approach is highly desirable not simply to save time but also to potentially improve\n",
    "the reliability and subjectivity of results.\n",
    "\n",
    "### Adaptive Optics (AO) Imaging\n",
    "Adaptive Optics (AO) is a state-of-the-art ultra-high-resolution imaging technique that uses a deformable mirror and wavefront sensor to measure and correct for imaging beam aberrations (in real-time). For images of the human retina, this means individual cells (such as cone and rod photoreceptors) are now able to be seen in living eyes. All prior imaging of such cells had occurred post mortem (diseased eyes).\n",
    "\n",
    "Despite the excitement of simply being able to see these cells, **major challenges remain--largely surrounding the interpretation and analysis of such images**. Much of my work in recent years involved (first) manually identifying and (later) automating the identification of cells and lesions in AO images of health and diseased eyes.\n",
    "\n",
    "### Machine Learning\n",
    "\n",
    "This notebook presents a machine learning approach this problem. This task was initiated in the summer of 2017 using \n",
    "Matlab and its built-in toolboxes. The current notebook represents recent updates to that work, using Python and Scikit-learn. New to the current version is some feature engineering (e.g. SMOTE technique) and adoption of a random forest classifier as opposed to the original logistic regression approach. The original images are not currently available, but can be seen in this publication:\n",
    "\n",
    "**Wells-Gray, E. M.**, *et al. \"Variation in rod and cone density from the fovea to the mid-periphery in healthy human retinas using adaptive optics scanning laser ophthalmoscopy.\" Eye 30.8 (2016): 1135.*\n",
    "\n",
    "### Pre-processing the images\n",
    "\n",
    "The dataset analyzed below presents features for cells classified as \"cone\" or \"rod\" by an expert reviewer familiar with AO-SLO structural characteristics of retinal cells. The images were first registered to correct for eye-motion using a strip-correlation approach and then averaged to improve signal-to-noise ratio. These pre-processed registered-averaged AO-SLO images were then fed into a cell identification routine that identified all cells based on presence of local intensity maxima satisfying intensity and spacing thresholds.  "
   ]
  },
  {
   "cell_type": "code",
   "execution_count": 1,
   "metadata": {},
   "outputs": [],
   "source": [
    "import numpy as np\n",
    "import pandas as pd\n",
    "from sklearn.model_selection import train_test_split\n",
    "from sklearn.linear_model import LogisticRegression\n",
    "from sklearn.ensemble import RandomForestClassifier\n",
    "from sklearn.pipeline import Pipeline\n",
    "from sklearn.preprocessing import StandardScaler\n",
    "from sklearn.model_selection import StratifiedKFold\n",
    "from sklearn.metrics import roc_auc_score,recall_score\n",
    "from imblearn.over_sampling import SMOTE\n",
    "from sklearn.metrics import confusion_matrix\n",
    "import matplotlib.pyplot as plt\n",
    "import seaborn as sn\n",
    "%matplotlib inline"
   ]
  },
  {
   "cell_type": "markdown",
   "metadata": {},
   "source": [
    "## Data preparation and analysis\n",
    "\n",
    "The target variable \"type\" referes to whether the cell was classified as cone (type=1) or\n",
    "rod (type=0). The three features include \"intensity\": the pixel intensity and the center of the identified cell; \"NN1\": distance in pixels to the (one) nearest neighboring cell; and \"slope\" the radial average intensity slope (intensity drop per pixel) at a distance of 3 pixels from cell center."
   ]
  },
  {
   "cell_type": "code",
   "execution_count": 2,
   "metadata": {
    "scrolled": true
   },
   "outputs": [
    {
     "data": {
      "text/html": [
       "<div>\n",
       "<style scoped>\n",
       "    .dataframe tbody tr th:only-of-type {\n",
       "        vertical-align: middle;\n",
       "    }\n",
       "\n",
       "    .dataframe tbody tr th {\n",
       "        vertical-align: top;\n",
       "    }\n",
       "\n",
       "    .dataframe thead th {\n",
       "        text-align: right;\n",
       "    }\n",
       "</style>\n",
       "<table border=\"1\" class=\"dataframe\">\n",
       "  <thead>\n",
       "    <tr style=\"text-align: right;\">\n",
       "      <th></th>\n",
       "      <th>type</th>\n",
       "      <th>intensity</th>\n",
       "      <th>NN1</th>\n",
       "      <th>slope</th>\n",
       "    </tr>\n",
       "  </thead>\n",
       "  <tbody>\n",
       "    <tr>\n",
       "      <th>0</th>\n",
       "      <td>0.0</td>\n",
       "      <td>808.177071</td>\n",
       "      <td>7.000000</td>\n",
       "      <td>45.093466</td>\n",
       "    </tr>\n",
       "    <tr>\n",
       "      <th>1</th>\n",
       "      <td>0.0</td>\n",
       "      <td>1174.478277</td>\n",
       "      <td>6.149716</td>\n",
       "      <td>27.719586</td>\n",
       "    </tr>\n",
       "    <tr>\n",
       "      <th>2</th>\n",
       "      <td>0.0</td>\n",
       "      <td>2009.822152</td>\n",
       "      <td>6.000000</td>\n",
       "      <td>32.000000</td>\n",
       "    </tr>\n",
       "    <tr>\n",
       "      <th>3</th>\n",
       "      <td>0.0</td>\n",
       "      <td>691.989251</td>\n",
       "      <td>7.149240</td>\n",
       "      <td>34.157923</td>\n",
       "    </tr>\n",
       "    <tr>\n",
       "      <th>4</th>\n",
       "      <td>1.0</td>\n",
       "      <td>2103.101759</td>\n",
       "      <td>9.978377</td>\n",
       "      <td>96.229036</td>\n",
       "    </tr>\n",
       "  </tbody>\n",
       "</table>\n",
       "</div>"
      ],
      "text/plain": [
       "   type    intensity       NN1      slope\n",
       "0   0.0   808.177071  7.000000  45.093466\n",
       "1   0.0  1174.478277  6.149716  27.719586\n",
       "2   0.0  2009.822152  6.000000  32.000000\n",
       "3   0.0   691.989251  7.149240  34.157923\n",
       "4   1.0  2103.101759  9.978377  96.229036"
      ]
     },
     "execution_count": 2,
     "metadata": {},
     "output_type": "execute_result"
    }
   ],
   "source": [
    "# read in csv file with photoreceptor features and classiciation targets\n",
    "df = pd.read_csv(\"cell_data.csv\", index_col=0)\n",
    "df.head()"
   ]
  },
  {
   "cell_type": "code",
   "execution_count": 3,
   "metadata": {
    "scrolled": true
   },
   "outputs": [],
   "source": [
    "df_cones = df.loc[df.type==1]\n",
    "df_rods = df.loc[df.type==0]\n"
   ]
  },
  {
   "cell_type": "code",
   "execution_count": 4,
   "metadata": {},
   "outputs": [],
   "source": [
    "def plot_cones_rods(att_cone, att_rod, xlabel):\n",
    "    fig,axes = plt.subplots(2,2,figsize=(9,4),sharex=True)\n",
    "    axes[0,0].hist(att_cone,20,color='blue', edgecolor='black')\n",
    "    axes[0,1].hist(att_rod,20,color='red', edgecolor='black')\n",
    "    plt.sca(axes[1,0])\n",
    "    sn.distplot(att_cone,bins=20)\n",
    "    plt.sca(axes[1,1])\n",
    "    sn.distplot(att_rod,bins=20)\n",
    "    #plt.hist(dist,40,color=color, edgecolor='black')\n",
    "    axes[1,0].set_xlabel(xlabel)\n",
    "    axes[1,1].set_xlabel(xlabel)\n",
    "    axes[0,0].set_title(\"Cones \"+xlabel)\n",
    "    axes[0,1].set_title(\"Rods \"+xlabel)"
   ]
  },
  {
   "cell_type": "code",
   "execution_count": 5,
   "metadata": {},
   "outputs": [
    {
     "data": {
      "image/png": "[encoded data removed]",
      "text/plain": [
       "<Figure size 648x288 with 4 Axes>"
      ]
     },
     "metadata": {
      "needs_background": "light"
     },
     "output_type": "display_data"
    }
   ],
   "source": [
    "plot_cones_rods(df_cones.intensity, df_rods.intensity,\"intensity\")"
   ]
  },
  {
   "cell_type": "code",
   "execution_count": 6,
   "metadata": {},
   "outputs": [
    {
     "data": {
      "image/png": "[encoded data removed]",
      "text/plain": [
       "<Figure size 648x288 with 4 Axes>"
      ]
     },
     "metadata": {
      "needs_background": "light"
     },
     "output_type": "display_data"
    }
   ],
   "source": [
    "plot_cones_rods(df_cones.NN1, df_rods.NN1,\"Nearest Neighbor (pixels)\")"
   ]
  },
  {
   "cell_type": "code",
   "execution_count": 7,
   "metadata": {},
   "outputs": [
    {
     "data": {
      "image/png": "[encoded data removed]",
      "text/plain": [
       "<Figure size 648x288 with 4 Axes>"
      ]
     },
     "metadata": {
      "needs_background": "light"
     },
     "output_type": "display_data"
    }
   ],
   "source": [
    "plot_cones_rods(df_cones.slope, df_rods.slope,\"Slope\")"
   ]
  },
  {
   "cell_type": "code",
   "execution_count": 8,
   "metadata": {},
   "outputs": [
    {
     "data": {
      "text/html": [
       "<div>\n",
       "<style scoped>\n",
       "    .dataframe tbody tr th:only-of-type {\n",
       "        vertical-align: middle;\n",
       "    }\n",
       "\n",
       "    .dataframe tbody tr th {\n",
       "        vertical-align: top;\n",
       "    }\n",
       "\n",
       "    .dataframe thead th {\n",
       "        text-align: right;\n",
       "    }\n",
       "</style>\n",
       "<table border=\"1\" class=\"dataframe\">\n",
       "  <thead>\n",
       "    <tr style=\"text-align: right;\">\n",
       "      <th></th>\n",
       "      <th>intensity</th>\n",
       "      <th>NN1</th>\n",
       "      <th>slope</th>\n",
       "    </tr>\n",
       "  </thead>\n",
       "  <tbody>\n",
       "    <tr>\n",
       "      <th>602</th>\n",
       "      <td>2102.916237</td>\n",
       "      <td>7.111658</td>\n",
       "      <td>12.225098</td>\n",
       "    </tr>\n",
       "    <tr>\n",
       "      <th>1212</th>\n",
       "      <td>1498.758180</td>\n",
       "      <td>8.330660</td>\n",
       "      <td>51.324943</td>\n",
       "    </tr>\n",
       "    <tr>\n",
       "      <th>1454</th>\n",
       "      <td>1772.374247</td>\n",
       "      <td>8.249625</td>\n",
       "      <td>27.011507</td>\n",
       "    </tr>\n",
       "    <tr>\n",
       "      <th>4034</th>\n",
       "      <td>1174.693090</td>\n",
       "      <td>6.956439</td>\n",
       "      <td>49.626100</td>\n",
       "    </tr>\n",
       "    <tr>\n",
       "      <th>5141</th>\n",
       "      <td>769.893397</td>\n",
       "      <td>6.000000</td>\n",
       "      <td>29.106418</td>\n",
       "    </tr>\n",
       "  </tbody>\n",
       "</table>\n",
       "</div>"
      ],
      "text/plain": [
       "        intensity       NN1      slope\n",
       "602   2102.916237  7.111658  12.225098\n",
       "1212  1498.758180  8.330660  51.324943\n",
       "1454  1772.374247  8.249625  27.011507\n",
       "4034  1174.693090  6.956439  49.626100\n",
       "5141   769.893397  6.000000  29.106418"
      ]
     },
     "execution_count": 8,
     "metadata": {},
     "output_type": "execute_result"
    }
   ],
   "source": [
    "# \"type\" is 1 for cones, 0 for rods. This is the target variable\n",
    "y_all = df.type\n",
    "X_all = df.copy()\n",
    "X_all.drop([\"type\"], axis=1, inplace=True)\n",
    "\n",
    "x_train, x_valid, y_train, y_valid = train_test_split(X_all,y_all, test_size=0.2, random_state=42)\n",
    "x_train.head()"
   ]
  },
  {
   "cell_type": "markdown",
   "metadata": {},
   "source": [
    "First we try a basic Logistic Regression"
   ]
  },
  {
   "cell_type": "code",
   "execution_count": 9,
   "metadata": {},
   "outputs": [
    {
     "name": "stdout",
     "output_type": "stream",
     "text": [
      "AUC (no_scaling)= 0.9079\n",
      "Recall(no scaling) 0.82407\n"
     ]
    }
   ],
   "source": [
    "# Simple Logistic Regression classifier\n",
    "clf = LogisticRegression(random_state=0, solver='liblinear', multi_class='ovr')\n",
    "clf.fit(x_train,y_train)\n",
    "\n",
    "y_predict = clf.predict(x_valid)\n",
    "\n",
    "auc = roc_auc_score(y_valid, y_predict)\n",
    "print('AUC (no_scaling)=',round(auc,5))\n",
    "recall = recall_score(y_valid, y_predict)\n",
    "print('Recall(no scaling)',round(recall,5))"
   ]
  },
  {
   "cell_type": "markdown",
   "metadata": {},
   "source": [
    "We can improve upon those results by scaling our features, which are quite imbalanced. "
   ]
  },
  {
   "cell_type": "code",
   "execution_count": 11,
   "metadata": {},
   "outputs": [
    {
     "name": "stdout",
     "output_type": "stream",
     "text": [
      "AUC (stand.scaler)= 0.93621\n",
      "Recall(stand.scaler) 0.88426\n"
     ]
    }
   ],
   "source": [
    "model = LogisticRegression(random_state=0, solver='liblinear', multi_class='ovr')\n",
    "clf_sc = Pipeline(steps = [('scaler',StandardScaler()),('model',model)])\n",
    "clf_sc.fit(x_train,y_train)\n",
    "\n",
    "y_predict_sc = clf_sc.predict(x_valid)\n",
    "\n",
    "auc = roc_auc_score(y_valid, y_predict_sc)\n",
    "print('AUC (stand.scaler)=',round(auc,5))\n",
    "recall = recall_score(y_valid, y_predict_sc)\n",
    "print('Recall(stand.scaler)',round(recall,5))"
   ]
  },
  {
   "cell_type": "markdown",
   "metadata": {},
   "source": [
    "Applying the sklearn built-in StandardScaler offers a clear improvement in both AUC and recall. \n",
    "\n",
    "But, if we take a second to look at these metrics, the AUC value looks pomising but the recall is not as good as we might like. We can gain some insight into this by looking at the confusion matrix. In the next cell is a function for plotting the confusion matrix."
   ]
  },
  {
   "cell_type": "code",
   "execution_count": 12,
   "metadata": {},
   "outputs": [],
   "source": [
    "from sklearn.metrics import confusion_matrix\n",
    "import matplotlib.pyplot as plt\n",
    "\n",
    "def plot_confusion_matrix(y_true, y_pred, classes,\n",
    "                          normalize=False,\n",
    "                          title=None,\n",
    "                          cmap=plt.cm.Blues):\n",
    "    \"\"\"\n",
    "    This function prints and plots the confusion matrix.\n",
    "    Normalization can be applied by setting `normalize=True`.\n",
    "    \"\"\"\n",
    "    if not title:\n",
    "        if normalize:\n",
    "            title = 'Normalized confusion matrix'\n",
    "        else:\n",
    "            title = 'Confusion matrix, without normalization'\n",
    "\n",
    "    # Compute confusion matrix\n",
    "    cm = confusion_matrix(y_true, y_pred)\n",
    "    # Only use the labels that appear in the data\n",
    "    #classes = classes[unique_labels(y_true, y_pred)]\n",
    "    if normalize:\n",
    "        cm = cm.astype('float') / cm.sum(axis=1)[:, np.newaxis]\n",
    "        print(\"Normalized confusion matrix\")\n",
    "    else:\n",
    "        print('Confusion matrix, without normalization')\n",
    "\n",
    "    #print(cm)\n",
    "\n",
    "    fig, ax = plt.subplots()\n",
    "    im = ax.imshow(cm, interpolation='nearest', cmap=cmap)\n",
    "    ax.figure.colorbar(im, ax=ax)\n",
    "    # We want to show all ticks...\n",
    "    ax.set(xticks=np.arange(cm.shape[1]),\n",
    "           yticks=np.arange(cm.shape[0]),\n",
    "           # ... and label them with the respective list entries\n",
    "           xticklabels=classes, yticklabels=classes,\n",
    "           title=title,\n",
    "           ylabel='True label',\n",
    "           xlabel='Predicted label')\n",
    "\n",
    "    # Rotate the tick labels and set their alignment.\n",
    "    plt.setp(ax.get_xticklabels(), rotation=45, ha=\"right\",\n",
    "             rotation_mode=\"anchor\")\n",
    "\n",
    "    # Loop over data dimensions and create text annotations.\n",
    "    fmt = '.2f' if normalize else 'd'\n",
    "    thresh = cm.max() / 2.\n",
    "    for i in range(cm.shape[0]):\n",
    "        for j in range(cm.shape[1]):\n",
    "            ax.text(j, i, format(cm[i, j], fmt),\n",
    "                    ha=\"center\", va=\"center\",\n",
    "                    color=\"white\" if cm[i, j] > thresh else \"black\")\n",
    "    fig.tight_layout()\n",
    "    return ax"
   ]
  },
  {
   "cell_type": "code",
   "execution_count": 13,
   "metadata": {},
   "outputs": [
    {
     "name": "stdout",
     "output_type": "stream",
     "text": [
      "Confusion matrix, without normalization\n"
     ]
    },
    {
     "data": {
      "text/plain": [
       "<matplotlib.axes._subplots.AxesSubplot at 0x1fbeb0fcfd0>"
      ]
     },
     "execution_count": 13,
     "metadata": {},
     "output_type": "execute_result"
    },
    {
     "data": {
      "image/png": "[encoded data removed]",
      "text/plain": [
       "<Figure size 432x288 with 2 Axes>"
      ]
     },
     "metadata": {
      "needs_background": "light"
     },
     "output_type": "display_data"
    }
   ],
   "source": [
    "cm = confusion_matrix(y_valid, y_predict_sc)\n",
    "plot_confusion_matrix(y_valid, y_predict_sc, classes=['rods','cones'],\n",
    "                          normalize=False,\n",
    "                          title=None,\n",
    "                          cmap=plt.cm.Blues)"
   ]
  },
  {
   "cell_type": "markdown",
   "metadata": {},
   "source": [
    "So we can see that, while rods are classified with fairly good accuraccy (few false positives), many cones are getting mis-classified as rods (false negatives). This can often be a problem for imblanced data, where one of the target classes occurs with much greater frequency (rods in this case). Over-sampling of the minority class often beneficial in this situation. We will be applying the Synthetic Minority Over-sampling (SMOTE) techiniqe. The following cell applies SMOTE without feature scaling."
   ]
  },
  {
   "cell_type": "code",
   "execution_count": 14,
   "metadata": {},
   "outputs": [
    {
     "name": "stdout",
     "output_type": "stream",
     "text": [
      "AUC (SMTOE)= 0.94462\n",
      "Recall(SMOTE) 0.92593\n"
     ]
    }
   ],
   "source": [
    "# Use SMOTE algorithm to over-sample the cones\n",
    "# Note: MUST over-sample AFTER splitting the test/val sets so test information \n",
    "# does not leak in to the validation data\n",
    "\n",
    "sm = SMOTE(random_state=0, ratio = 1.0)\n",
    "x_train_res, y_train_res = sm.fit_sample(x_train, y_train)\n",
    "\n",
    "# Staying with a logistic regressio nodel\n",
    "model_res = LogisticRegression(random_state=0, solver='liblinear', multi_class='ovr')\n",
    "model_res.fit(x_train_res,y_train_res)\n",
    " \n",
    "y_predict_res = model_res.predict(x_valid)\n",
    " \n",
    "auc = roc_auc_score(y_valid, y_predict_res)\n",
    "print('AUC (SMTOE)=',round(auc,5))\n",
    "recall = recall_score(y_valid, y_predict_res)\n",
    "print('Recall(SMOTE)',round(recall,5))"
   ]
  },
  {
   "cell_type": "markdown",
   "metadata": {},
   "source": [
    "Below we apply SMOTE with scaling of x. "
   ]
  },
  {
   "cell_type": "code",
   "execution_count": 19,
   "metadata": {},
   "outputs": [
    {
     "name": "stdout",
     "output_type": "stream",
     "text": [
      "AUC (SMTOE+rescale)= 0.94629\n",
      "Recall(SMOTE+rescale) 0.93519\n",
      "Confusion matrix, without normalization\n"
     ]
    },
    {
     "data": {
      "text/plain": [
       "<matplotlib.axes._subplots.AxesSubplot at 0x1fbeb35a0b8>"
      ]
     },
     "execution_count": 19,
     "metadata": {},
     "output_type": "execute_result"
    },
    {
     "data": {
      "image/png": "[encoded data removed]",
      "text/plain": [
       "<Figure size 432x288 with 2 Axes>"
      ]
     },
     "metadata": {
      "needs_background": "light"
     },
     "output_type": "display_data"
    }
   ],
   "source": [
    "sc = StandardScaler()\n",
    "x_train_sc = sc.fit_transform(x_train) \n",
    "x_valid_sc = sc.transform(x_valid) \n",
    "\n",
    "sm = SMOTE(random_state=0, ratio = 1.0)\n",
    "x_train_sc_res, y_train_res = sm.fit_sample(x_train_sc, y_train)\n",
    "\n",
    "model_sc_res = LogisticRegression(random_state=0, solver='liblinear', multi_class='ovr')\n",
    "model_sc_res.fit(x_train_sc_res, y_train_res)\n",
    "y_predict_sc_res = model_sc_res.predict(x_valid_sc)\n",
    "\n",
    "auc2 = roc_auc_score(y_valid, y_predict_sc_res)\n",
    "print('AUC (SMTOE+rescale)=',round(auc2,5))\n",
    "recall2 = recall_score(y_valid, y_predict_sc_res)\n",
    "print('Recall(SMOTE+rescale)',round(recall2,5))\n",
    "\n",
    "cm = confusion_matrix(y_valid, y_predict_sc_res)\n",
    "plot_confusion_matrix(y_valid, y_predict_sc_res, classes=['rods','cones'],\n",
    "                          normalize=False,\n",
    "                          title=None,\n",
    "                          cmap=plt.cm.Blues)"
   ]
  },
  {
   "cell_type": "markdown",
   "metadata": {},
   "source": [
    "As we can see from the confusion matrix, the number of false negatives has been greatly reduced. \n",
    "\n",
    "Those results seem promising with a simple Logisitic Regression Classsifier. What about other classification techniques? Below, as Random Forest Classifier is used. As decision trees are scale invariate, we will drop the Standard Scaler."
   ]
  },
  {
   "cell_type": "code",
   "execution_count": 27,
   "metadata": {},
   "outputs": [
    {
     "name": "stdout",
     "output_type": "stream",
     "text": [
      "AUC (SMTOE+rescale)= 0.94779\n",
      "Recall(SMOTE+rescale) 0.90741\n",
      "Confusion matrix, without normalization\n"
     ]
    },
    {
     "data": {
      "text/plain": [
       "<matplotlib.axes._subplots.AxesSubplot at 0x1fbeb109c50>"
      ]
     },
     "execution_count": 27,
     "metadata": {},
     "output_type": "execute_result"
    },
    {
     "data": {
      "image/png": "[encoded data removed]",
      "text/plain": [
       "<Figure size 432x288 with 2 Axes>"
      ]
     },
     "metadata": {
      "needs_background": "light"
     },
     "output_type": "display_data"
    }
   ],
   "source": [
    "clf_rf = RandomForestClassifier(n_estimators=25, random_state=0)\n",
    "\n",
    "clf_rf.fit(x_train, y_train)\n",
    "y_predict_rf = clf_rf.predict(x_valid)\n",
    "\n",
    "auc = roc_auc_score(y_valid, y_predict_rf)\n",
    "print('AUC (SMTOE+rescale)=',round(auc,5))\n",
    "recall= recall_score(y_valid, y_predict_rf)\n",
    "print('Recall(SMOTE+rescale)',round(recall,5))\n",
    "\n",
    "cm = confusion_matrix(y_valid, y_predict_rf)\n",
    "plot_confusion_matrix(y_valid, y_predict_rf, classes=['rods','cones'],\n",
    "                          normalize=False,\n",
    "                          title=None,\n",
    "                          cmap=plt.cm.Blues)"
   ]
  },
  {
   "cell_type": "markdown",
   "metadata": {},
   "source": [
    "These results are striking. Using a Random Forest Model, with no scaling or resampling, we achieved roughly equivalent results right off the bat (equivalent AUC; recall slighlty lower). \n",
    "\n",
    "***To do in following cell: remove the resampling. ***"
   ]
  },
  {
   "cell_type": "code",
   "execution_count": 28,
   "metadata": {},
   "outputs": [
    {
     "name": "stdout",
     "output_type": "stream",
     "text": [
      "AUC (SMTOE+rescale)= 0.95463\n",
      "Recall(SMOTE+rescale) 0.93056\n",
      "Confusion matrix, without normalization\n"
     ]
    },
    {
     "data": {
      "text/plain": [
       "<matplotlib.axes._subplots.AxesSubplot at 0x1fbeb0f0860>"
      ]
     },
     "execution_count": 28,
     "metadata": {},
     "output_type": "execute_result"
    },
    {
     "data": {
      "image/png": "[encoded data removed]",
      "text/plain": [
       "<Figure size 432x288 with 2 Axes>"
      ]
     },
     "metadata": {
      "needs_background": "light"
     },
     "output_type": "display_data"
    }
   ],
   "source": [
    "clf_rf = RandomForestClassifier(n_estimators=25, random_state=0)\n",
    "\n",
    "clf_rf.fit(x_train_sc_res, y_train_res)\n",
    "y_predict_clf_rf = clf_rf.predict(x_valid_sc)\n",
    "\n",
    "auc_rf = roc_auc_score(y_valid, y_predict_clf_rf)\n",
    "print('AUC (SMTOE+rescale)=',round(auc_rf,5))\n",
    "recall_rf = recall_score(y_valid, y_predict_clf_rf)\n",
    "print('Recall(SMOTE+rescale)',round(recall_rf,5))\n",
    "\n",
    "cm = confusion_matrix(y_valid, y_predict_clf_rf)\n",
    "plot_confusion_matrix(y_valid, y_predict_clf_rf, classes=['rods','cones'],\n",
    "                          normalize=False,\n",
    "                          title=None,\n",
    "                          cmap=plt.cm.Blues)"
   ]
  },
  {
   "cell_type": "code",
   "execution_count": null,
   "metadata": {},
   "outputs": [],
   "source": []
  },
  {
   "cell_type": "code",
   "execution_count": null,
   "metadata": {},
   "outputs": [],
   "source": []
  }
 ],
 "metadata": {
  "kernelspec": {
   "display_name": "Python 3",
   "language": "python",
   "name": "python3"
  },
  "language_info": {
   "codemirror_mode": {
    "name": "ipython",
    "version": 3
   },
   "file_extension": ".py",
   "mimetype": "text/x-python",
   "name": "python",
   "nbconvert_exporter": "python",
   "pygments_lexer": "ipython3",
   "version": "3.7.1"
  }
 },
 "nbformat": 4,
 "nbformat_minor": 2
}

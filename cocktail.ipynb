{
 "cells": [
  {
   "cell_type": "markdown",
   "metadata": {},
   "source": [
    "# Analysis of a Great Cocktail\n",
    "\n",
    "Here I look into what it takes to make a great adult beverage. Nothing against beer, wine, or even mead, but here I focus on **Cocktails**--and fancy ones at that!\n",
    "\n",
    "The dataset contains cocktails collected by alcohol importer and distiller Hotaling & Co. Original data at: http://www.hotalingandco.com/cocktails/. "
   ]
  },
  {
   "cell_type": "code",
   "execution_count": null,
   "metadata": {
    "_cell_guid": "b1076dfc-b9ad-4769-8c92-a6c4dae69d19",
    "_uuid": "8f2839f25d086af736a60e9eeb907d3b93b6e0e5"
   },
   "outputs": [],
   "source": [
    "# This Python 3 environment comes with many helpful analytics libraries installed\n",
    "# It is defined by the kaggle/python docker image: https://github.com/kaggle/docker-python\n",
    "# For example, here's several helpful packages to load in \n",
    "\n",
    "import numpy as np # linear algebra\n",
    "import pandas as pd # data processing, CSV file I/O (e.g. pd.read_csv)\n",
    "import matplotlib.pyplot as plt\n",
    "import seaborn as sns\n",
    "\n",
    "# Input data files are available in the \"../input/\" directory.\n",
    "# For example, running this (by clicking run or pressing Shift+Enter) will list all files under the input directory\n",
    "\n",
    "import os\n",
    "for dirname, _, filenames in os.walk('/kaggle/input'):\n",
    "    for filename in filenames:\n",
    "        print(os.path.join(dirname, filename))\n",
    "        dpath=(os.path.join(dirname, filename))\n",
    "\n",
    "# Any results you write to the current directory are saved as output."
   ]
  },
  {
   "cell_type": "code",
   "execution_count": null,
   "metadata": {
    "_cell_guid": "79c7e3d0-c299-4dcb-8224-4455121ee9b0",
    "_uuid": "d629ff2d2480ee46fbb7e2d37f6b5fab8052498a"
   },
   "outputs": [],
   "source": [
    "# Start by reading in the data and taking a quick look at the structure\n",
    "df = pd.read_csv(dpath)\n",
    "df.head()"
   ]
  },
  {
   "cell_type": "code",
   "execution_count": null,
   "metadata": {},
   "outputs": [],
   "source": [
    "df.describe()"
   ]
  },
  {
   "cell_type": "markdown",
   "metadata": {},
   "source": [
    "## Which Cities, Bars, and Bartenders are prevalent in the data?\n",
    "\n",
    "Let's visually explore the data, focussing on some demographic details first. To streamline this, we will first define a function. \n",
    "\n"
   ]
  },
  {
   "cell_type": "code",
   "execution_count": null,
   "metadata": {},
   "outputs": [],
   "source": [
    "sns.set(style=\"whitegrid\")\n",
    "def plot_dist(data, prop, minimum = 0, title='Distribution of Values'):\n",
    "    plt.figure(figsize=(10,6))\n",
    "    counts = data.groupby(prop).filter(lambda x: len(x) >= minimum)\n",
    "    plot = sns.countplot(\n",
    "        data = counts,\n",
    "        y=prop,\n",
    "        order=counts[prop].value_counts().index,\n",
    "        palette=\"deep\"\n",
    "    )\n",
    "    plot.set_title(title)\n",
    "    plt.tight_layout()\n",
    "    plt.show()\n",
    "    return counts"
   ]
  },
  {
   "cell_type": "code",
   "execution_count": null,
   "metadata": {},
   "outputs": [],
   "source": [
    "locations = plot_dist(df, 'Location', 0,'Distribution of recepies origin location')"
   ]
  },
  {
   "cell_type": "markdown",
   "metadata": {},
   "source": [
    "## San Fran vs NYC\n",
    "It's not entirely surprising that most of the drinks come from major US cites: San Francisco, New York, Houston, LA, New Oreleans, Chicago, etc. (Well, Houston surprised me a bit at first, but I suppose it's hot and humid there--perfect weather for a cold concoction!). However, San Francisco has a HUGE advantage!"
   ]
  },
  {
   "cell_type": "code",
   "execution_count": null,
   "metadata": {},
   "outputs": [],
   "source": [
    "df.Location.loc[df.Location.isin([\"San Francisco\",\"New York\"])].value_counts()"
   ]
  },
  {
   "cell_type": "markdown",
   "metadata": {},
   "source": [
    "**San Francisco has 6 times as many drinks in the list!** That seems unusual, considering New Yorkers are knows for loving their cocktails; plus New York is the larger city. Well, it turns out the company that gererously suplied this data, Hotaling & Co, is based in San Fran. That may very well be the primary reason. \n",
    "\n",
    "But that brings us to an impotortant point--selection bias. This data should **not** be taken as a representative sample of coctail characteristics across America (though if such a dataset existed, I'd love to see it!). It's just a biased sampling of some nice drinks that the distributer has chosen to share. Considering we don't know how drinks are selected for the list, we can't really make any assumptions beyond that. "
   ]
  },
  {
   "cell_type": "markdown",
   "metadata": {},
   "source": [
    "## A Closer look at San Fancisco Cocktails"
   ]
  },
  {
   "cell_type": "code",
   "execution_count": null,
   "metadata": {},
   "outputs": [],
   "source": [
    "df_sf = df.loc[df.Location == \"San Francisco\"]\n",
    "df_sf.describe()"
   ]
  },
  {
   "cell_type": "code",
   "execution_count": null,
   "metadata": {},
   "outputs": [],
   "source": [
    "liqours = [\"gin\", \"vodka\",\"rum\",\"whiskey\",\"rye\", \"bourbon\",\"tequila\"]\n",
    "for i,liq in enumerate(liqours):\n",
    "    # Returns a positive value if liq is found in the ingredients\n",
    "    df.loc[:,liq] = df.Ingredients.str.lower().str.find(liq)\n",
    "\n",
    "n_gin = df.gin.loc[df.gin >0].count() \n",
    "n_whi = df.whiskey.loc[df.whiskey >0].count()\n",
    "n_vod = df.vodka.loc[df.vodka >0].count()\n",
    "n_rye = df.rye.loc[df.rye >0].count()\n",
    "n_bou = df.bourbon.loc[df.bourbon >0].count()\n",
    "n_teq = df.tequila.loc[df.tequila >0].count()\n",
    "    \n",
    "p = [n_gin,n_whi,n_vod,n_rye,n_bou,n_teq, len(df)-n_gin-n_whi-n_vod-n_rye-n_bou-n_teq]\n",
    "labels = [\"Gin\",\"Whiskey\",\"Vodka\",\"Rye\",\"Burbon\",\"Tequila\",\"Other\"]\n",
    "    \n",
    "f0, ax0 = plt.subplots(figsize=(6,6))\n",
    "ax0.pie(p,labels=labels, autopct='%1.1f%%',\n",
    "        shadow=True, startangle=90)\n",
    "plt.title(\"Main Cocktail Spirit for all Locations\")"
   ]
  },
  {
   "cell_type": "code",
   "execution_count": null,
   "metadata": {},
   "outputs": [],
   "source": [
    "# Here is a simple funciton that tallies the number of Gin, Whiskey and Vodka Drinks for a given city\n",
    "\n",
    "def liq_find(data, city):\n",
    "    \n",
    "    df_city = df.loc[df.Location == city]\n",
    "    \n",
    "    liq_count = {}\n",
    "    for i,liq in enumerate(liqours):\n",
    "        # Returns a positive value if liq is found in the ingredients\n",
    "        df_city.loc[:,liq]= df_city.Ingredients.str.lower().str.find(liq)\n",
    "    \n",
    "    n_gin = df_city.gin.loc[df_city.gin >0].count()\n",
    "    n_whi = df_city.whiskey.loc[df_city.whiskey >0].count()\n",
    "    n_vod = df_city.vodka.loc[df_city.vodka >0].count()\n",
    "    n_rye = df_city.rye.loc[df_city.rye >0].count()\n",
    "    n_bou = df_city.bourbon.loc[df_city.bourbon >0].count()\n",
    "    n_teq = df_city.tequila.loc[df_city.tequila >0].count()\n",
    "    \n",
    "    # ratio of drinks with \"other\" main spirit\n",
    "    r_other = (len(df_city)-n_gin-n_whi-n_vod-n_rye-n_bou-n_teq)/len(df_city)\n",
    "    \n",
    "    # Print a summary \n",
    "    print(\"NUmber of gin drinks in \"+city+\": \" +str(n_gin))\n",
    "    print(\"NUmber of whiskey drinks in \"+city+\": \"+ str(n_whi))\n",
    "    print(\"NUmber of vodka drinks \"+city+\": \"+ str(n_vod))\n",
    "    print(\"Percent of drinks with Other Spirit - \"+city+\": \" +(\"%0.1f\" % (100*r_other))+\"%\")\n",
    "    \n",
    "    #df_p = pd.Series([n_gin,n_whi,n_vod,len(df_city)-n_gin-n_whi-n_vod])\n",
    "    p = [n_gin,n_whi,n_vod,n_rye,n_bou,n_teq, len(df_city)-n_gin-n_whi-n_vod-n_rye-n_bou-n_teq]\n",
    "    labels = [\"Gin\",\"Whiskey\",\"Vodka\",\"Rye\",\"Burbon\",\"Tequila\",\"Other\"]\n",
    "    \n",
    "    f1, ax1 = plt.subplots(figsize=(6,6))\n",
    "    ax1.pie(p,labels=labels, autopct='%1.1f%%',\n",
    "        shadow=True, startangle=90)\n",
    "    plt.title(city)\n",
    "    #df_p.plot(kind=\"pie\", subplots=True, figsize=(6,6))\n",
    "    \n",
    "    return 0\n",
    "\n",
    "df_sf = liq_find(df, \"San Francisco\")"
   ]
  },
  {
   "cell_type": "code",
   "execution_count": null,
   "metadata": {},
   "outputs": [],
   "source": [
    "Now let's look at New York"
   ]
  },
  {
   "cell_type": "code",
   "execution_count": null,
   "metadata": {},
   "outputs": [],
   "source": [
    "df_sf = liq_find(df, \"New York\")"
   ]
  },
  {
   "cell_type": "code",
   "execution_count": null,
   "metadata": {},
   "outputs": [],
   "source": [
    "df_sf = liq_find(df, \"Houston\")"
   ]
  },
  {
   "cell_type": "code",
   "execution_count": null,
   "metadata": {},
   "outputs": [],
   "source": [
    "df_sf = liq_find(df, \"Los Angeles\")"
   ]
  },
  {
   "cell_type": "code",
   "execution_count": null,
   "metadata": {},
   "outputs": [],
   "source": [
    "df_sf = liq_find(df, \"New Orleans\")"
   ]
  },
  {
   "cell_type": "markdown",
   "metadata": {},
   "source": [
    "So, roughly half of the drink do no considst of Gin, Vodka, or Tequila"
   ]
  },
  {
   "cell_type": "code",
   "execution_count": null,
   "metadata": {},
   "outputs": [],
   "source": []
  }
 ],
 "metadata": {
  "kernelspec": {
   "display_name": "Python 3",
   "language": "python",
   "name": "python3"
  },
  "language_info": {
   "codemirror_mode": {
    "name": "ipython",
    "version": 3
   },
   "file_extension": ".py",
   "mimetype": "text/x-python",
   "name": "python",
   "nbconvert_exporter": "python",
   "pygments_lexer": "ipython3",
   "version": "3.7.3"
  }
 },
 "nbformat": 4,
 "nbformat_minor": 1
}

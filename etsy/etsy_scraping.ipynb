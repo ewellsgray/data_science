{
 "cells": [
  {
   "cell_type": "code",
   "execution_count": 1,
   "metadata": {},
   "outputs": [],
   "source": [
    "# -*- coding: utf-8 -*-\n",
    "\"\"\"\n",
    "Created on Mon Nov  4 11:49:40 2019\n",
    "\n",
    "@author: ewell\n",
    "\"\"\"\n",
    "# Corey Schafer\n",
    "# https://www.youtube.com/watch?v=ng2o98k983k\n",
    "\n",
    "from bs4 import BeautifulSoup as bs\n",
    "import requests\n",
    "import pandas as pd"
   ]
  },
  {
   "cell_type": "code",
   "execution_count": 2,
   "metadata": {},
   "outputs": [],
   "source": [
    "#url_base =\"https://www.etsy.com/c/home-and-living?ref=pagination&page=\"\n",
    "\n",
    "# Drawing and Illustrations\n",
    "url_base =\"https://www.etsy.com/c/art-and-collectibles/drawing-and-illustration?ref=pagination&explicit=1&page=\"\n",
    "\n",
    "# Prints\n",
    "#url_base =\"https://www.etsy.com/c/art-and-collectibles/prints?explicit=1&ref=pagination&page=\"\n",
    "\n",
    "# R: how many page listings to procesess; capping it for time\n",
    "R = 24\n",
    "urls=[]\n",
    "for r in range(R): \n",
    "    urls.append(url_base+str(r+2))\n",
    "    \n",
    "#urls = [\"https://www.etsy.com/c/home-and-living?ref=pagination&page=2\",\n",
    "#        \"https://www.etsy.com/c/home-and-living?ref=pagination&page=3\",\n",
    "#        \"https://www.etsy.com/c/home-and-living?ref=pagination&page=4\",\n",
    "#        \"https://www.etsy.com/c/home-and-living?ref=pagination&page=5\"]\n",
    "\n",
    "page_count = 0\n",
    "\n",
    "id = []\n",
    "href = []\n",
    "price = []\n",
    "blurb = []\n",
    "seller = []\n",
    "stars = []\n",
    "li_list = []\n",
    "numrate = []\n",
    "list_dict=[]"
   ]
  },
  {
   "cell_type": "code",
   "execution_count": 3,
   "metadata": {},
   "outputs": [
    {
     "data": {
      "text/plain": [
       "24"
      ]
     },
     "execution_count": 3,
     "metadata": {},
     "output_type": "execute_result"
    }
   ],
   "source": [
    "len(urls)"
   ]
  },
  {
   "cell_type": "code",
   "execution_count": 4,
   "metadata": {},
   "outputs": [
    {
     "name": "stdout",
     "output_type": "stream",
     "text": [
      "https://i.etsystatic.com/11612604/c/2965/2354/0/373/il/0f2627/1673811890/il_340x270.1673811890_q1zq.jpg\n",
      "https://i.etsystatic.com/11612604/c/2965/2354/0/373/il/0f2627/1673811890/il_340x270.1673811890_q1zq.jpg\n"
     ]
    }
   ],
   "source": [
    "# Let's look at a page at random\n",
    "url = urls[3]\n",
    "\n",
    "# Request the page\n",
    "request_result = requests.get(url)\n",
    "#source = request_result.text\n",
    "\n",
    "if request_result.status_code == 200:\n",
    "    soup = bs(request_result.text, \"lxml\")\n",
    "\n",
    "# Use Beautiful soup to get the HTML info (the \"soup\")\n",
    "#soup = bs(source, \"lxml\")\n",
    "#print(soup.prettify())  \n",
    "\n",
    "element = soup.find(\"ul\",{\"class\":\"responsive-listing-grid wt-grid wt-grid--block justify-content-flex-start pl-xs-0\"})    \n",
    "li_match = element.find_all(\"li\")\n",
    "item = li_match[3]\n",
    "\n",
    "image_path = str(item.find(\"img\",{\"class\":\"width-full wt-height-full display-block position-absolute\"})[\"src\"])\n",
    "#img_i = str(image.find(\"div\",{\"class\":\"js-merch-stash-check-listing\"})[\"data-palette-listing-id\"])\n",
    "            \n",
    "#images = soup.find(\"img\",{\"class\":\"responsive-listing-grid wt-grid wt-grid--block justify-content-flex-start pl-xs-0\"})    \n",
    "#li_match = element.find_all(\"li\")\n",
    "print(image_path)\n",
    "image_path_clean = image_path.split(\"?\")[0]\n",
    "print(image_path_clean)"
   ]
  },
  {
   "cell_type": "code",
   "execution_count": 5,
   "metadata": {},
   "outputs": [
    {
     "data": {
      "text/plain": [
       "('00000002.jpg', <http.client.HTTPMessage at 0x2637c6f4668>)"
      ]
     },
     "execution_count": 5,
     "metadata": {},
     "output_type": "execute_result"
    }
   ],
   "source": [
    "import urllib.request as req\n",
    "req.urlretrieve(image_path_clean, \"00000002.jpg\")"
   ]
  },
  {
   "cell_type": "code",
   "execution_count": 6,
   "metadata": {},
   "outputs": [],
   "source": [
    "# Loop through all Page Listing\n",
    "for url in urls:\n",
    "    page_count+=1\n",
    "    \n",
    "    # Request the page\n",
    "    source = requests.get(url).text\n",
    "    \n",
    "    # Use Beautiful soup to get the HTML info (the \"soup\")\n",
    "    soup = bs(source, \"lxml\")\n",
    "    #print(soup.prettify())              \n",
    "    \n",
    "    #article = soup.find(\"ul\",data-target=\"category-block-grid\", class_=\"list-unstyled block-grid-xs-2 show-xs show-sm show-md  hide-lg hide-xl hide-tv\")\n",
    "    element = soup.find(\"ul\",{\"class\":\"responsive-listing-grid wt-grid wt-grid--block justify-content-flex-start pl-xs-0\"})    \n",
    "    li_match = element.find_all(\"li\")\n",
    "    \n",
    "    #for li in range(150,490):\n",
    "    li_count=0\n",
    "    for item in li_match:#[0:20]:   \n",
    "        li_count+=1\n",
    "        try: \n",
    "            id_i = str(item.find(\"div\",{\"class\":\"js-merch-stash-check-listing\"})[\"data-palette-listing-id\"])\n",
    "            #id.append(id_i)\n",
    "            \n",
    "            href_i = str(item.find(\"a\",{\"class\":\"display-inline-block listing-link\"})[\"href\"])\n",
    "            #href.append(href_i)\n",
    "            \n",
    "            seller_i = str(item.find(\"div\",{\"class\":\"v2-listing-card__shop\"}).p.text)\n",
    "            #seller.append(seller_i)\n",
    "            #seller.update({li:seller_i})\n",
    "            \n",
    "            # get current price\n",
    "            price_i = str(item.find(\"span\", {\"class\":\"currency-value\"}).text)\n",
    "            #price.append(price_i)\n",
    "            #price.update({li:price_i})\n",
    "        \n",
    "            # get blurb\n",
    "            blurb_i = str(item.find(\"h2\",{\"class\":\"text-gray text-truncate mb-xs-0 text-body\"}).text) \n",
    "            blurb_i = blurb_i.replace(\"\\n\",\"\").strip()\n",
    "            #blurb.update({li:blurb_i})\n",
    "            \n",
    "            stars_i = str(item.find(\"input\",{\"name\":\"rating\"})[\"value\"]) \n",
    "            #stars.append(stars_i)\n",
    "    \n",
    "            numrate_i = str(item.find(\"span\",{\"class\":\"text-body-smaller text-gray-lighter display-inline-block icon-b-1\"}).text) \n",
    "            numrate_i=numrate_i.strip(\"()\").replace(\",\",\"\")\n",
    "            #numrate.append(numrate_i)        \n",
    "            #text-body-smaller text-gray-lighter display-inline-block icon-b-1\n",
    "            \n",
    "            image_path_i = str(item.find(\"img\",{\"class\":\"width-full wt-height-full display-block position-absolute\"})[\"src\"])\n",
    "            image_path_clean_i = image_path_i.split(\"?\")[0]\n",
    "            \n",
    "            row= {'id':id_i,'href':href_i,'seller':seller_i,'price':price_i,'blurb':blurb_i,\n",
    "                  'stars':stars_i,'numrate':numrate_i,'im_path':image_path_i}\n",
    "            list_dict.append(row)\n",
    "            #row = (id_i,href_i,seller_i,price_i,blurb_i,stars_i,numrate_i)\n",
    "            #print(row)\n",
    "            #li_list.append(li)\n",
    "        except Exception as e:\n",
    "            break\n",
    "            #id.append(\"none\")\n",
    "            #href.append(\"none\")\n",
    "            #seller.append(\"none\")\n",
    "            #price.append(\"none\")\n",
    "            #blurb.append(\"none\")\n",
    "            #stars.append(\"none\")\n",
    "            #numrate.append(\"none\")\n",
    "            #li_list.append(li)\n",
    "    "
   ]
  },
  {
   "cell_type": "code",
   "execution_count": 7,
   "metadata": {},
   "outputs": [],
   "source": [
    "#Create DataFrame from all the catagory lists\n",
    "df = pd.DataFrame(list_dict)\n",
    "df.set_index('id',inplace=True)\n",
    "#df.to_csv(\"etsy_prints.csv\")\n",
    "#df = pd.DataFrame({\"li_num\":li_list})\n",
    "# =============================================================================\n",
    "# df = pd.DataFrame({\"id\":id})\n",
    "#      \n",
    "# #df[\"li_num\"] = li_list\n",
    "# df[\"href\"] = href\n",
    "# df[\"price\"] = price\n",
    "# df[\"blurb\"] = blurb\n",
    "# df[\"seller\"] = seller\n",
    "# df[\"stars\"] = stars\n",
    "# df[\"numrate\"] = numrate\n",
    "# ============================================================================="
   ]
  },
  {
   "cell_type": "code",
   "execution_count": 10,
   "metadata": {},
   "outputs": [
    {
     "data": {
      "text/html": [
       "<div>\n",
       "<style scoped>\n",
       "    .dataframe tbody tr th:only-of-type {\n",
       "        vertical-align: middle;\n",
       "    }\n",
       "\n",
       "    .dataframe tbody tr th {\n",
       "        vertical-align: top;\n",
       "    }\n",
       "\n",
       "    .dataframe thead th {\n",
       "        text-align: right;\n",
       "    }\n",
       "</style>\n",
       "<table border=\"1\" class=\"dataframe\">\n",
       "  <thead>\n",
       "    <tr style=\"text-align: right;\">\n",
       "      <th></th>\n",
       "      <th>blurb</th>\n",
       "      <th>href</th>\n",
       "      <th>im_path</th>\n",
       "      <th>numrate</th>\n",
       "      <th>price</th>\n",
       "      <th>seller</th>\n",
       "      <th>stars</th>\n",
       "    </tr>\n",
       "    <tr>\n",
       "      <th>id</th>\n",
       "      <th></th>\n",
       "      <th></th>\n",
       "      <th></th>\n",
       "      <th></th>\n",
       "      <th></th>\n",
       "      <th></th>\n",
       "      <th></th>\n",
       "    </tr>\n",
       "  </thead>\n",
       "  <tbody>\n",
       "    <tr>\n",
       "      <th>384757194</th>\n",
       "      <td>Printable card, French quote card, Love card, ...</td>\n",
       "      <td>https://www.etsy.com/listing/384757194/printab...</td>\n",
       "      <td>https://i.etsystatic.com/12394010/c/1175/933/0...</td>\n",
       "      <td>137</td>\n",
       "      <td>1.44</td>\n",
       "      <td>MonRosePompon</td>\n",
       "      <td>5</td>\n",
       "    </tr>\n",
       "    <tr>\n",
       "      <th>527143006</th>\n",
       "      <td>Green and Teal Glitter Digital Papers, Scrapbo...</td>\n",
       "      <td>https://www.etsy.com/listing/527143006/green-a...</td>\n",
       "      <td>https://i.etsystatic.com/15125539/c/700/555/0/...</td>\n",
       "      <td>360</td>\n",
       "      <td>0.99</td>\n",
       "      <td>ChubbyEyesDigital</td>\n",
       "      <td>4.9084</td>\n",
       "    </tr>\n",
       "    <tr>\n",
       "      <th>481478699</th>\n",
       "      <td>Dog Portrait Custom Sketch</td>\n",
       "      <td>https://www.etsy.com/listing/481478699/dog-por...</td>\n",
       "      <td>https://i.etsystatic.com/5463640/c/855/679/0/8...</td>\n",
       "      <td>60</td>\n",
       "      <td>55.00</td>\n",
       "      <td>SketchbookGallery</td>\n",
       "      <td>5</td>\n",
       "    </tr>\n",
       "    <tr>\n",
       "      <th>497950786</th>\n",
       "      <td>Black and white quote poster, Modern design, H...</td>\n",
       "      <td>https://www.etsy.com/listing/497950786/black-a...</td>\n",
       "      <td>https://i.etsystatic.com/12394010/c/1175/933/0...</td>\n",
       "      <td>137</td>\n",
       "      <td>4.72</td>\n",
       "      <td>MonRosePompon</td>\n",
       "      <td>5</td>\n",
       "    </tr>\n",
       "  </tbody>\n",
       "</table>\n",
       "</div>"
      ],
      "text/plain": [
       "                                                       blurb  \\\n",
       "id                                                             \n",
       "384757194  Printable card, French quote card, Love card, ...   \n",
       "527143006  Green and Teal Glitter Digital Papers, Scrapbo...   \n",
       "481478699                         Dog Portrait Custom Sketch   \n",
       "497950786  Black and white quote poster, Modern design, H...   \n",
       "\n",
       "                                                        href  \\\n",
       "id                                                             \n",
       "384757194  https://www.etsy.com/listing/384757194/printab...   \n",
       "527143006  https://www.etsy.com/listing/527143006/green-a...   \n",
       "481478699  https://www.etsy.com/listing/481478699/dog-por...   \n",
       "497950786  https://www.etsy.com/listing/497950786/black-a...   \n",
       "\n",
       "                                                     im_path numrate  price  \\\n",
       "id                                                                            \n",
       "384757194  https://i.etsystatic.com/12394010/c/1175/933/0...     137   1.44   \n",
       "527143006  https://i.etsystatic.com/15125539/c/700/555/0/...     360   0.99   \n",
       "481478699  https://i.etsystatic.com/5463640/c/855/679/0/8...      60  55.00   \n",
       "497950786  https://i.etsystatic.com/12394010/c/1175/933/0...     137   4.72   \n",
       "\n",
       "                      seller   stars  \n",
       "id                                    \n",
       "384757194      MonRosePompon       5  \n",
       "527143006  ChubbyEyesDigital  4.9084  \n",
       "481478699  SketchbookGallery       5  \n",
       "497950786      MonRosePompon       5  "
      ]
     },
     "execution_count": 10,
     "metadata": {},
     "output_type": "execute_result"
    }
   ],
   "source": [
    "df.sample(4)"
   ]
  },
  {
   "cell_type": "code",
   "execution_count": 14,
   "metadata": {},
   "outputs": [
    {
     "data": {
      "text/plain": [
       "'98573738'"
      ]
     },
     "execution_count": 14,
     "metadata": {},
     "output_type": "execute_result"
    }
   ],
   "source": [
    "df.index.max()"
   ]
  },
  {
   "cell_type": "code",
   "execution_count": 15,
   "metadata": {},
   "outputs": [
    {
     "data": {
      "text/plain": [
       "'101291064'"
      ]
     },
     "execution_count": 15,
     "metadata": {},
     "output_type": "execute_result"
    }
   ],
   "source": [
    "df.index.min()"
   ]
  },
  {
   "cell_type": "code",
   "execution_count": null,
   "metadata": {},
   "outputs": [],
   "source": []
  }
 ],
 "metadata": {
  "kernelspec": {
   "display_name": "Python 3",
   "language": "python",
   "name": "python3"
  },
  "language_info": {
   "codemirror_mode": {
    "name": "ipython",
    "version": 3
   },
   "file_extension": ".py",
   "mimetype": "text/x-python",
   "name": "python",
   "nbconvert_exporter": "python",
   "pygments_lexer": "ipython3",
   "version": "3.7.1"
  }
 },
 "nbformat": 4,
 "nbformat_minor": 2
}

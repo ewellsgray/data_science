{
 "cells": [
  {
   "cell_type": "markdown",
   "metadata": {},
   "source": [
    "# Predicting Dengue Spread\n",
    "\n",
    "## Project Overview\n",
    "\n",
    "In this notebook we examine feature imacting the occuance of Dengue Fever and employ several machine learning model to predict its spread. Dengue surveillance data is provided by the U.S. Centers for Disease Control and prevention, as well as the Department of Defense's Naval Medical Research Unit 6 and the Armed Forces Health Surveillance Center, in collaboration with the Peruvian government and U.S. universities. Environmental and climate data is provided by the National Oceanic and Atmospheric Administration (NOAA), an agency of the U.S. Department of Commerce.\n",
    "The project is part of the \"Predict the Next Pandemic Initiative\"\n",
    "\n",
    "The data set is hosted at Driven Data, which provides datasets that explore social and humanitarian issues. They also host machine learning competions, similar to Kaggle, but the overarching goal of all competitions is to provides some sort of humaniarial benefit. It's machine learning with a heart!\n",
    "\n",
    "Here is a link to Driven Data: https://www.drivendata.org/ \n",
    "More information on the Dengue issue can be found here: https://www.drivendata.org/competitions/44/dengai-predicting-disease-spread/page/81/\n",
    "\n",
    "If you are unfamiliar with Dengue Fever (it is uncommon in the US), is a mosquito-borne tropical disease common in more than 110 countries, mainly in Asia and South America. Each year between 50 and 528 million people are infected and approximately 10,000 to 20,000 die.\n",
    "The Wikipedia page is a good resouce: https://en.wikipedia.org/wiki/Dengue_fever"
   ]
  },
  {
   "cell_type": "markdown",
   "metadata": {},
   "source": [
    "### Here are the starting features\n",
    "\n",
    "City and date indicators\n",
    "* city – City abbreviations: sj for San Juan and iq for Iquitos\n",
    "* week_start_date – Date given in yyyy-mm-dd format\n",
    "\n",
    "NOAA's GHCN daily climate data weather station measurements\n",
    "* station_max_temp_c – Maximum temperature\n",
    "* station_min_temp_c – Minimum temperature\n",
    "* station_avg_temp_c – Average temperature\n",
    "* station_precip_mm – Total precipitation\n",
    "* station_diur_temp_rng_c – Diurnal temperature range\n",
    "\n",
    "PERSIANN satellite precipitation measurements (0.25x0.25 degree scale)\n",
    "* precipitation_amt_mm – Total precipitation\n",
    "\n",
    "NOAA's NCEP Climate Forecast System Reanalysis measurements (0.5x0.5 degree scale)\n",
    "* reanalysis_sat_precip_amt_mm – Total precipitation\n",
    "* reanalysis_dew_point_temp_k – Mean dew point temperature\n",
    "* reanalysis_air_temp_k – Mean air temperature\n",
    "* reanalysis_relative_humidity_percent – Mean relative humidity\n",
    "* reanalysis_specific_humidity_g_per_kg – Mean specific humidity\n",
    "* reanalysis_precip_amt_kg_per_m2 – Total precipitation\n",
    "* reanalysis_max_air_temp_k – Maximum air temperature\n",
    "* reanalysis_min_air_temp_k – Minimum air temperature\n",
    "* reanalysis_avg_temp_k – Average air temperature\n",
    "* reanalysis_tdtr_k – Diurnal temperature range\n",
    "\n",
    "Satellite vegetation - Normalized difference vegetation index (NDVI) - NOAA's CDR Normalized Difference Vegetation Index (0.5x0.5 degree scale) measurements\n",
    "* ndvi_se – Pixel southeast of city centroid\n",
    "* ndvi_sw – Pixel southwest of city centroid\n",
    "* ndvi_ne – Pixel northeast of city centroid\n",
    "* ndvi_nw – Pixel northwest of city centroid"
   ]
  },
  {
   "attachments": {},
   "cell_type": "markdown",
   "metadata": {},
   "source": [
    "### Target Variable\n",
    "\n",
    "The target we are investigating is \"totol cases\", which is a specifies for each city, year, and weekofyear. "
   ]
  },
  {
   "cell_type": "code",
   "execution_count": 1,
   "metadata": {},
   "outputs": [],
   "source": [
    "import os\n",
    "import numpy as np # linear algebra\n",
    "import pandas as pd # data processing, CSV file I/O (e.g. pd.read_csv)\n",
    "import matplotlib\n",
    "import matplotlib.pyplot as plt\n",
    "%matplotlib inline"
   ]
  },
  {
   "cell_type": "code",
   "execution_count": 2,
   "metadata": {},
   "outputs": [
    {
     "name": "stdout",
     "output_type": "stream",
     "text": [
      ".\\dengue_analyze.py\n",
      ".\\dengue_features_train.csv\n",
      ".\\dengue_labels_train.csv\n",
      ".\\dengue_predict.ipynb\n",
      ".\\Untitled.ipynb\n",
      ".\\.ipynb_checkpoints\\Untitled-checkpoint.ipynb\n"
     ]
    }
   ],
   "source": [
    "data_path = []\n",
    "for dirname, _, filenames in os.walk('.'):\n",
    "    for filename in filenames:\n",
    "        print(os.path.join(dirname, filename))\n",
    "        data_path.append(os.path.join(dirname, filename))\n",
    "        \n"
   ]
  },
  {
   "cell_type": "code",
   "execution_count": 3,
   "metadata": {},
   "outputs": [
    {
     "data": {
      "text/html": [
       "<div>\n",
       "<style scoped>\n",
       "    .dataframe tbody tr th:only-of-type {\n",
       "        vertical-align: middle;\n",
       "    }\n",
       "\n",
       "    .dataframe tbody tr th {\n",
       "        vertical-align: top;\n",
       "    }\n",
       "\n",
       "    .dataframe thead th {\n",
       "        text-align: right;\n",
       "    }\n",
       "</style>\n",
       "<table border=\"1\" class=\"dataframe\">\n",
       "  <thead>\n",
       "    <tr style=\"text-align: right;\">\n",
       "      <th></th>\n",
       "      <th>city</th>\n",
       "      <th>year</th>\n",
       "      <th>weekofyear</th>\n",
       "      <th>week_start_date</th>\n",
       "      <th>ndvi_ne</th>\n",
       "      <th>ndvi_nw</th>\n",
       "      <th>ndvi_se</th>\n",
       "      <th>ndvi_sw</th>\n",
       "      <th>precipitation_amt_mm</th>\n",
       "      <th>reanalysis_air_temp_k</th>\n",
       "      <th>...</th>\n",
       "      <th>reanalysis_relative_humidity_percent</th>\n",
       "      <th>reanalysis_sat_precip_amt_mm</th>\n",
       "      <th>reanalysis_specific_humidity_g_per_kg</th>\n",
       "      <th>reanalysis_tdtr_k</th>\n",
       "      <th>station_avg_temp_c</th>\n",
       "      <th>station_diur_temp_rng_c</th>\n",
       "      <th>station_max_temp_c</th>\n",
       "      <th>station_min_temp_c</th>\n",
       "      <th>station_precip_mm</th>\n",
       "      <th>total_cases</th>\n",
       "    </tr>\n",
       "  </thead>\n",
       "  <tbody>\n",
       "    <tr>\n",
       "      <th>1360</th>\n",
       "      <td>iq</td>\n",
       "      <td>2008</td>\n",
       "      <td>35</td>\n",
       "      <td>2008-08-26</td>\n",
       "      <td>0.318186</td>\n",
       "      <td>0.319767</td>\n",
       "      <td>0.308171</td>\n",
       "      <td>0.323600</td>\n",
       "      <td>58.20</td>\n",
       "      <td>298.574286</td>\n",
       "      <td>...</td>\n",
       "      <td>84.491429</td>\n",
       "      <td>58.20</td>\n",
       "      <td>16.652857</td>\n",
       "      <td>10.742857</td>\n",
       "      <td>27.833333</td>\n",
       "      <td>12.533333</td>\n",
       "      <td>35.1</td>\n",
       "      <td>20.4</td>\n",
       "      <td>44.0</td>\n",
       "      <td>5</td>\n",
       "    </tr>\n",
       "    <tr>\n",
       "      <th>64</th>\n",
       "      <td>sj</td>\n",
       "      <td>1991</td>\n",
       "      <td>30</td>\n",
       "      <td>1991-07-23</td>\n",
       "      <td>0.080100</td>\n",
       "      <td>0.008050</td>\n",
       "      <td>0.138033</td>\n",
       "      <td>0.129067</td>\n",
       "      <td>56.58</td>\n",
       "      <td>299.808571</td>\n",
       "      <td>...</td>\n",
       "      <td>81.482857</td>\n",
       "      <td>56.58</td>\n",
       "      <td>17.734286</td>\n",
       "      <td>2.242857</td>\n",
       "      <td>28.000000</td>\n",
       "      <td>5.885714</td>\n",
       "      <td>32.8</td>\n",
       "      <td>24.4</td>\n",
       "      <td>43.1</td>\n",
       "      <td>23</td>\n",
       "    </tr>\n",
       "    <tr>\n",
       "      <th>574</th>\n",
       "      <td>sj</td>\n",
       "      <td>2001</td>\n",
       "      <td>20</td>\n",
       "      <td>2001-05-14</td>\n",
       "      <td>0.103100</td>\n",
       "      <td>0.094100</td>\n",
       "      <td>0.198483</td>\n",
       "      <td>0.176557</td>\n",
       "      <td>77.36</td>\n",
       "      <td>299.134286</td>\n",
       "      <td>...</td>\n",
       "      <td>82.350000</td>\n",
       "      <td>77.36</td>\n",
       "      <td>17.268571</td>\n",
       "      <td>2.942857</td>\n",
       "      <td>27.857143</td>\n",
       "      <td>6.042857</td>\n",
       "      <td>32.2</td>\n",
       "      <td>24.4</td>\n",
       "      <td>60.5</td>\n",
       "      <td>8</td>\n",
       "    </tr>\n",
       "    <tr>\n",
       "      <th>1115</th>\n",
       "      <td>iq</td>\n",
       "      <td>2003</td>\n",
       "      <td>50</td>\n",
       "      <td>2003-12-10</td>\n",
       "      <td>0.358629</td>\n",
       "      <td>0.244350</td>\n",
       "      <td>0.351900</td>\n",
       "      <td>0.358800</td>\n",
       "      <td>108.62</td>\n",
       "      <td>298.685714</td>\n",
       "      <td>...</td>\n",
       "      <td>93.231429</td>\n",
       "      <td>108.62</td>\n",
       "      <td>19.107143</td>\n",
       "      <td>8.271429</td>\n",
       "      <td>28.400000</td>\n",
       "      <td>11.700000</td>\n",
       "      <td>34.2</td>\n",
       "      <td>22.5</td>\n",
       "      <td>47.4</td>\n",
       "      <td>6</td>\n",
       "    </tr>\n",
       "    <tr>\n",
       "      <th>618</th>\n",
       "      <td>sj</td>\n",
       "      <td>2002</td>\n",
       "      <td>12</td>\n",
       "      <td>2002-03-19</td>\n",
       "      <td>0.153500</td>\n",
       "      <td>0.168800</td>\n",
       "      <td>0.279100</td>\n",
       "      <td>0.248086</td>\n",
       "      <td>0.00</td>\n",
       "      <td>297.985714</td>\n",
       "      <td>...</td>\n",
       "      <td>74.917143</td>\n",
       "      <td>0.00</td>\n",
       "      <td>14.628571</td>\n",
       "      <td>3.071429</td>\n",
       "      <td>25.785714</td>\n",
       "      <td>6.957143</td>\n",
       "      <td>30.0</td>\n",
       "      <td>20.6</td>\n",
       "      <td>6.5</td>\n",
       "      <td>6</td>\n",
       "    </tr>\n",
       "  </tbody>\n",
       "</table>\n",
       "<p>5 rows × 25 columns</p>\n",
       "</div>"
      ],
      "text/plain": [
       "     city  year  weekofyear week_start_date   ndvi_ne   ndvi_nw   ndvi_se  \\\n",
       "1360   iq  2008          35      2008-08-26  0.318186  0.319767  0.308171   \n",
       "64     sj  1991          30      1991-07-23  0.080100  0.008050  0.138033   \n",
       "574    sj  2001          20      2001-05-14  0.103100  0.094100  0.198483   \n",
       "1115   iq  2003          50      2003-12-10  0.358629  0.244350  0.351900   \n",
       "618    sj  2002          12      2002-03-19  0.153500  0.168800  0.279100   \n",
       "\n",
       "       ndvi_sw  precipitation_amt_mm  reanalysis_air_temp_k  ...  \\\n",
       "1360  0.323600                 58.20             298.574286  ...   \n",
       "64    0.129067                 56.58             299.808571  ...   \n",
       "574   0.176557                 77.36             299.134286  ...   \n",
       "1115  0.358800                108.62             298.685714  ...   \n",
       "618   0.248086                  0.00             297.985714  ...   \n",
       "\n",
       "      reanalysis_relative_humidity_percent  reanalysis_sat_precip_amt_mm  \\\n",
       "1360                             84.491429                         58.20   \n",
       "64                               81.482857                         56.58   \n",
       "574                              82.350000                         77.36   \n",
       "1115                             93.231429                        108.62   \n",
       "618                              74.917143                          0.00   \n",
       "\n",
       "      reanalysis_specific_humidity_g_per_kg  reanalysis_tdtr_k  \\\n",
       "1360                              16.652857          10.742857   \n",
       "64                                17.734286           2.242857   \n",
       "574                               17.268571           2.942857   \n",
       "1115                              19.107143           8.271429   \n",
       "618                               14.628571           3.071429   \n",
       "\n",
       "      station_avg_temp_c  station_diur_temp_rng_c  station_max_temp_c  \\\n",
       "1360           27.833333                12.533333                35.1   \n",
       "64             28.000000                 5.885714                32.8   \n",
       "574            27.857143                 6.042857                32.2   \n",
       "1115           28.400000                11.700000                34.2   \n",
       "618            25.785714                 6.957143                30.0   \n",
       "\n",
       "      station_min_temp_c  station_precip_mm  total_cases  \n",
       "1360                20.4               44.0            5  \n",
       "64                  24.4               43.1           23  \n",
       "574                 24.4               60.5            8  \n",
       "1115                22.5               47.4            6  \n",
       "618                 20.6                6.5            6  \n",
       "\n",
       "[5 rows x 25 columns]"
      ]
     },
     "execution_count": 3,
     "metadata": {},
     "output_type": "execute_result"
    }
   ],
   "source": [
    "df_feat = pd.read_csv(data_path[1])\n",
    "df_targ = pd.read_csv(data_path[2])\n",
    "#print(df_targ.columns)\n",
    "df_o=pd.concat([df_feat,df_targ.total_cases],axis=1)\n",
    "df_o.sample(5)\n",
    "#df_o.columns\n"
   ]
  },
  {
   "cell_type": "markdown",
   "metadata": {},
   "source": [
    "## Data Exploration"
   ]
  },
  {
   "cell_type": "code",
   "execution_count": 4,
   "metadata": {},
   "outputs": [
    {
     "name": "stdout",
     "output_type": "stream",
     "text": [
      "\n",
      " Rows and Columns:\n",
      "(1456, 25)\n",
      "\n",
      " Data Types:\n",
      "city                                      object\n",
      "year                                       int64\n",
      "weekofyear                                 int64\n",
      "week_start_date                           object\n",
      "ndvi_ne                                  float64\n",
      "ndvi_nw                                  float64\n",
      "ndvi_se                                  float64\n",
      "ndvi_sw                                  float64\n",
      "precipitation_amt_mm                     float64\n",
      "reanalysis_air_temp_k                    float64\n",
      "reanalysis_avg_temp_k                    float64\n",
      "reanalysis_dew_point_temp_k              float64\n",
      "reanalysis_max_air_temp_k                float64\n",
      "reanalysis_min_air_temp_k                float64\n",
      "reanalysis_precip_amt_kg_per_m2          float64\n",
      "reanalysis_relative_humidity_percent     float64\n",
      "reanalysis_sat_precip_amt_mm             float64\n",
      "reanalysis_specific_humidity_g_per_kg    float64\n",
      "reanalysis_tdtr_k                        float64\n",
      "station_avg_temp_c                       float64\n",
      "station_diur_temp_rng_c                  float64\n",
      "station_max_temp_c                       float64\n",
      "station_min_temp_c                       float64\n",
      "station_precip_mm                        float64\n",
      "total_cases                                int64\n",
      "dtype: object\n"
     ]
    }
   ],
   "source": [
    "# Data are mostly floats, with a couple ints and a couple objects\n",
    "print('\\n Rows and Columns:')\n",
    "print(df_o.shape)\n",
    "print('\\n Data Types:')\n",
    "print(df_o.dtypes)"
   ]
  },
  {
   "cell_type": "code",
   "execution_count": 5,
   "metadata": {},
   "outputs": [
    {
     "data": {
      "image/png": "[encoded data removed]",
      "text/plain": [
       "<Figure size 600x510 with 2 Axes>"
      ]
     },
     "metadata": {
      "needs_background": "light"
     },
     "output_type": "display_data"
    }
   ],
   "source": [
    "import seaborn as sn\n",
    "\n",
    "def plot_corr_matrix(df, subset=[], details=\"All Features\"):\n",
    "\n",
    "    if len(subset)>0:\n",
    "        df = df[subset]\n",
    "        \n",
    "    corr = df.corr()\n",
    "    #cmap = sn.diverging_palette(255, 133, l=60, n=7, center=\"dark\")\n",
    "    \n",
    "    xx=(df.shape[1]/3,(df.shape[1]/3)*.85 )\n",
    "    fig=plt.figure(figsize=xx)\n",
    "    ax = sn.heatmap(corr,cmap='RdBu_r',vmin=-1,vmax=1)\n",
    "\n",
    "    ax.set_title(\"Correlation for \"+details)\n",
    "    \n",
    "plot_corr_matrix(df=df_o, subset=[], details=\"All Features\") "
   ]
  },
  {
   "cell_type": "markdown",
   "metadata": {},
   "source": [
    "The bottom row and right-most column on the above correlation matrix, show how each feature correlates with total cases. We observe many reature that are weekly-to-moderately correlated with total_case(0.2-0.4), but few that are ***strongly*** correlated."
   ]
  },
  {
   "cell_type": "code",
   "execution_count": 6,
   "metadata": {},
   "outputs": [
    {
     "data": {
      "text/plain": [
       "Text(0.5,1,'Feature Correlation (with Target)')"
      ]
     },
     "execution_count": 6,
     "metadata": {},
     "output_type": "execute_result"
    },
    {
     "data": {
      "image/png": "[encoded data removed]",
      "text/plain": [
       "<Figure size 720x252 with 1 Axes>"
      ]
     },
     "metadata": {
      "needs_background": "light"
     },
     "output_type": "display_data"
    }
   ],
   "source": [
    "plt.figure(figsize=(10,3.5))\n",
    "#%matplotlib inline\n",
    "df_o.corr().iloc[-1].sort_values(ascending=False).plot(kind=\"bar\")\n",
    "#plt.show()\n",
    "plt.xlabel('feature')\n",
    "plt.ylabel('Pearson Correaltion')\n",
    "plt.title('Feature Correlation (with Target)')\n",
    "\n"
   ]
  },
  {
   "cell_type": "code",
   "execution_count": 7,
   "metadata": {},
   "outputs": [],
   "source": [
    "from sklearn.linear_model import LinearRegression\n",
    "from sklearn.model_selection import train_test_split\n",
    "from sklearn.metrics import mean_squared_error\n",
    "from sklearn.pipeline import Pipeline\n",
    "from sklearn.preprocessing import StandardScaler\n",
    "from sklearn.model_selection import cross_val_score"
   ]
  },
  {
   "cell_type": "code",
   "execution_count": 8,
   "metadata": {},
   "outputs": [
    {
     "data": {
      "text/plain": [
       "ndvi_ne                                  194\n",
       "ndvi_nw                                   52\n",
       "station_diur_temp_rng_c                   43\n",
       "station_avg_temp_c                        43\n",
       "ndvi_se                                   22\n",
       "ndvi_sw                                   22\n",
       "station_precip_mm                         22\n",
       "station_max_temp_c                        20\n",
       "station_min_temp_c                        14\n",
       "reanalysis_sat_precip_amt_mm              13\n",
       "precipitation_amt_mm                      13\n",
       "reanalysis_max_air_temp_k                 10\n",
       "reanalysis_avg_temp_k                     10\n",
       "reanalysis_air_temp_k                     10\n",
       "reanalysis_min_air_temp_k                 10\n",
       "reanalysis_dew_point_temp_k               10\n",
       "reanalysis_precip_amt_kg_per_m2           10\n",
       "reanalysis_relative_humidity_percent      10\n",
       "reanalysis_specific_humidity_g_per_kg     10\n",
       "reanalysis_tdtr_k                         10\n",
       "weekofyear                                 0\n",
       "year                                       0\n",
       "total_cases                                0\n",
       "week_start_date                            0\n",
       "city                                       0\n",
       "dtype: int64"
      ]
     },
     "execution_count": 8,
     "metadata": {},
     "output_type": "execute_result"
    }
   ],
   "source": [
    "# Create working copy of the data for cleaning (df_o to remain unchanged)\n",
    "df = df_o.copy()\n",
    "df.isnull().sum().sort_values(ascending=False)\n",
    "#len(df)"
   ]
  },
  {
   "cell_type": "code",
   "execution_count": 9,
   "metadata": {},
   "outputs": [
    {
     "data": {
      "text/plain": [
       "array([[<matplotlib.axes._subplots.AxesSubplot object at 0x00000223D32F1EB8>,\n",
       "        <matplotlib.axes._subplots.AxesSubplot object at 0x00000223D3328860>],\n",
       "       [<matplotlib.axes._subplots.AxesSubplot object at 0x00000223D3351EB8>,\n",
       "        <matplotlib.axes._subplots.AxesSubplot object at 0x00000223D3381588>]],\n",
       "      dtype=object)"
      ]
     },
     "execution_count": 9,
     "metadata": {},
     "output_type": "execute_result"
    },
    {
     "data": {
      "image/png": "[encoded data removed]",
      "text/plain": [
       "<Figure size 432x288 with 4 Axes>"
      ]
     },
     "metadata": {
      "needs_background": "light"
     },
     "output_type": "display_data"
    }
   ],
   "source": [
    "df[[\"ndvi_se\",\"ndvi_sw\",\"ndvi_ne\",\"ndvi_nw\"]].hist()"
   ]
  },
  {
   "cell_type": "markdown",
   "metadata": {},
   "source": [
    "We could drop ndvi_ne as it is highly correlated with ndvi_nw, however currently we will try imputing with the mean of the other 3 ndvi variables. The 52 cases where ndvi_nw is missing, we will replace with the mean of ndvi_se and ndvi_sw. Where ndvi_se and ndvi_s are missing, we will impute with the mean. "
   ]
  },
  {
   "cell_type": "code",
   "execution_count": 10,
   "metadata": {},
   "outputs": [],
   "source": [
    "df.ndvi_se.fillna(df.ndvi_se.mean(),inplace=True)\n",
    "df.ndvi_sw.fillna(df.ndvi_sw.mean(),inplace=True)\n",
    "df.ndvi_nw.fillna((df.ndvi_sw + df.ndvi_se)/2,inplace=True)\n",
    "df.ndvi_ne.fillna((df.ndvi_sw + df.ndvi_se + df.ndvi_nw)/3,inplace=True)"
   ]
  },
  {
   "cell_type": "code",
   "execution_count": 11,
   "metadata": {},
   "outputs": [
    {
     "data": {
      "image/png": "[encoded data removed]",
      "text/plain": [
       "<Figure size 96x81.6 with 2 Axes>"
      ]
     },
     "metadata": {
      "needs_background": "light"
     },
     "output_type": "display_data"
    },
    {
     "data": {
      "image/png": "[encoded data removed]",
      "text/plain": [
       "<Figure size 96x81.6 with 2 Axes>"
      ]
     },
     "metadata": {
      "needs_background": "light"
     },
     "output_type": "display_data"
    }
   ],
   "source": [
    "# Check the correlation matrices for the ndvi features, before and after imputation\n",
    "plot_corr_matrix(df=df_o, subset=['ndvi_ne','ndvi_nw','ndvi_se','ndvi_se'], details=\"original\") \n",
    "plot_corr_matrix(df=df, subset=['ndvi_ne','ndvi_nw','ndvi_se','ndvi_se'], details=\"imputed\") "
   ]
  },
  {
   "cell_type": "markdown",
   "metadata": {},
   "source": [
    "We will impute other rows with missing values with the mean of the respective column."
   ]
  },
  {
   "cell_type": "code",
   "execution_count": 12,
   "metadata": {},
   "outputs": [],
   "source": [
    "df.fillna(df.mean(),inplace=True)"
   ]
  },
  {
   "cell_type": "markdown",
   "metadata": {},
   "source": [
    "We will eventually going to drop year from the subesquent analysis, due to potential data leakage, but we will engineer some features using it later on.  "
   ]
  },
  {
   "cell_type": "code",
   "execution_count": 13,
   "metadata": {},
   "outputs": [],
   "source": [
    "#df.drop(\"year\", axis=1,inplace=True)\n",
    "#df.columns"
   ]
  },
  {
   "cell_type": "markdown",
   "metadata": {},
   "source": [
    "## Categorial Features"
   ]
  },
  {
   "cell_type": "code",
   "execution_count": 14,
   "metadata": {},
   "outputs": [
    {
     "data": {
      "text/plain": [
       "Index(['city', 'week_start_date'], dtype='object')"
      ]
     },
     "execution_count": 14,
     "metadata": {},
     "output_type": "execute_result"
    }
   ],
   "source": [
    "cat_features = df.loc[:,(df.dtypes=='object')]\n",
    "cat_features.columns\n"
   ]
  },
  {
   "cell_type": "markdown",
   "metadata": {},
   "source": [
    "For now we will drop week_start_date. The day of the month likely has not bearing on dengue cases, week is already represented in it's feature column, and year is being dropped due to leakage. "
   ]
  },
  {
   "cell_type": "code",
   "execution_count": 15,
   "metadata": {},
   "outputs": [],
   "source": [
    "df.drop('week_start_date', axis=1,inplace=True)\n",
    "#df.columns"
   ]
  },
  {
   "cell_type": "markdown",
   "metadata": {},
   "source": [
    "Lets look at the city attribute."
   ]
  },
  {
   "cell_type": "code",
   "execution_count": 16,
   "metadata": {},
   "outputs": [
    {
     "data": {
      "text/plain": [
       "array(['sj', 'iq'], dtype=object)"
      ]
     },
     "execution_count": 16,
     "metadata": {},
     "output_type": "execute_result"
    }
   ],
   "source": [
    "df_o.city.unique()"
   ]
  },
  {
   "cell_type": "markdown",
   "metadata": {},
   "source": [
    "Only two cities. Will do categorical encoding (though one-hot could also be used)"
   ]
  },
  {
   "cell_type": "code",
   "execution_count": 17,
   "metadata": {},
   "outputs": [
    {
     "data": {
      "text/html": [
       "<div>\n",
       "<style scoped>\n",
       "    .dataframe tbody tr th:only-of-type {\n",
       "        vertical-align: middle;\n",
       "    }\n",
       "\n",
       "    .dataframe tbody tr th {\n",
       "        vertical-align: top;\n",
       "    }\n",
       "\n",
       "    .dataframe thead th {\n",
       "        text-align: right;\n",
       "    }\n",
       "</style>\n",
       "<table border=\"1\" class=\"dataframe\">\n",
       "  <thead>\n",
       "    <tr style=\"text-align: right;\">\n",
       "      <th></th>\n",
       "      <th>city</th>\n",
       "      <th>year</th>\n",
       "      <th>weekofyear</th>\n",
       "      <th>ndvi_ne</th>\n",
       "      <th>ndvi_nw</th>\n",
       "      <th>ndvi_se</th>\n",
       "      <th>ndvi_sw</th>\n",
       "      <th>precipitation_amt_mm</th>\n",
       "      <th>reanalysis_air_temp_k</th>\n",
       "      <th>reanalysis_avg_temp_k</th>\n",
       "      <th>...</th>\n",
       "      <th>reanalysis_relative_humidity_percent</th>\n",
       "      <th>reanalysis_sat_precip_amt_mm</th>\n",
       "      <th>reanalysis_specific_humidity_g_per_kg</th>\n",
       "      <th>reanalysis_tdtr_k</th>\n",
       "      <th>station_avg_temp_c</th>\n",
       "      <th>station_diur_temp_rng_c</th>\n",
       "      <th>station_max_temp_c</th>\n",
       "      <th>station_min_temp_c</th>\n",
       "      <th>station_precip_mm</th>\n",
       "      <th>total_cases</th>\n",
       "    </tr>\n",
       "  </thead>\n",
       "  <tbody>\n",
       "    <tr>\n",
       "      <th>0</th>\n",
       "      <td>1</td>\n",
       "      <td>1990</td>\n",
       "      <td>18</td>\n",
       "      <td>0.122600</td>\n",
       "      <td>0.103725</td>\n",
       "      <td>0.198483</td>\n",
       "      <td>0.177617</td>\n",
       "      <td>12.42</td>\n",
       "      <td>297.572857</td>\n",
       "      <td>297.742857</td>\n",
       "      <td>...</td>\n",
       "      <td>73.365714</td>\n",
       "      <td>12.42</td>\n",
       "      <td>14.012857</td>\n",
       "      <td>2.628571</td>\n",
       "      <td>25.442857</td>\n",
       "      <td>6.900000</td>\n",
       "      <td>29.4</td>\n",
       "      <td>20.0</td>\n",
       "      <td>16.0</td>\n",
       "      <td>4</td>\n",
       "    </tr>\n",
       "    <tr>\n",
       "      <th>1</th>\n",
       "      <td>1</td>\n",
       "      <td>1990</td>\n",
       "      <td>19</td>\n",
       "      <td>0.169900</td>\n",
       "      <td>0.142175</td>\n",
       "      <td>0.162357</td>\n",
       "      <td>0.155486</td>\n",
       "      <td>22.82</td>\n",
       "      <td>298.211429</td>\n",
       "      <td>298.442857</td>\n",
       "      <td>...</td>\n",
       "      <td>77.368571</td>\n",
       "      <td>22.82</td>\n",
       "      <td>15.372857</td>\n",
       "      <td>2.371429</td>\n",
       "      <td>26.714286</td>\n",
       "      <td>6.371429</td>\n",
       "      <td>31.7</td>\n",
       "      <td>22.2</td>\n",
       "      <td>8.6</td>\n",
       "      <td>5</td>\n",
       "    </tr>\n",
       "    <tr>\n",
       "      <th>2</th>\n",
       "      <td>1</td>\n",
       "      <td>1990</td>\n",
       "      <td>20</td>\n",
       "      <td>0.032250</td>\n",
       "      <td>0.172967</td>\n",
       "      <td>0.157200</td>\n",
       "      <td>0.170843</td>\n",
       "      <td>34.54</td>\n",
       "      <td>298.781429</td>\n",
       "      <td>298.878571</td>\n",
       "      <td>...</td>\n",
       "      <td>82.052857</td>\n",
       "      <td>34.54</td>\n",
       "      <td>16.848571</td>\n",
       "      <td>2.300000</td>\n",
       "      <td>26.714286</td>\n",
       "      <td>6.485714</td>\n",
       "      <td>32.2</td>\n",
       "      <td>22.8</td>\n",
       "      <td>41.4</td>\n",
       "      <td>4</td>\n",
       "    </tr>\n",
       "    <tr>\n",
       "      <th>3</th>\n",
       "      <td>1</td>\n",
       "      <td>1990</td>\n",
       "      <td>21</td>\n",
       "      <td>0.128633</td>\n",
       "      <td>0.245067</td>\n",
       "      <td>0.227557</td>\n",
       "      <td>0.235886</td>\n",
       "      <td>15.36</td>\n",
       "      <td>298.987143</td>\n",
       "      <td>299.228571</td>\n",
       "      <td>...</td>\n",
       "      <td>80.337143</td>\n",
       "      <td>15.36</td>\n",
       "      <td>16.672857</td>\n",
       "      <td>2.428571</td>\n",
       "      <td>27.471429</td>\n",
       "      <td>6.771429</td>\n",
       "      <td>33.3</td>\n",
       "      <td>23.3</td>\n",
       "      <td>4.0</td>\n",
       "      <td>3</td>\n",
       "    </tr>\n",
       "    <tr>\n",
       "      <th>4</th>\n",
       "      <td>1</td>\n",
       "      <td>1990</td>\n",
       "      <td>22</td>\n",
       "      <td>0.196200</td>\n",
       "      <td>0.262200</td>\n",
       "      <td>0.251200</td>\n",
       "      <td>0.247340</td>\n",
       "      <td>7.52</td>\n",
       "      <td>299.518571</td>\n",
       "      <td>299.664286</td>\n",
       "      <td>...</td>\n",
       "      <td>80.460000</td>\n",
       "      <td>7.52</td>\n",
       "      <td>17.210000</td>\n",
       "      <td>3.014286</td>\n",
       "      <td>28.942857</td>\n",
       "      <td>9.371429</td>\n",
       "      <td>35.0</td>\n",
       "      <td>23.9</td>\n",
       "      <td>5.8</td>\n",
       "      <td>6</td>\n",
       "    </tr>\n",
       "  </tbody>\n",
       "</table>\n",
       "<p>5 rows × 24 columns</p>\n",
       "</div>"
      ],
      "text/plain": [
       "   city  year  weekofyear   ndvi_ne   ndvi_nw   ndvi_se   ndvi_sw  \\\n",
       "0     1  1990          18  0.122600  0.103725  0.198483  0.177617   \n",
       "1     1  1990          19  0.169900  0.142175  0.162357  0.155486   \n",
       "2     1  1990          20  0.032250  0.172967  0.157200  0.170843   \n",
       "3     1  1990          21  0.128633  0.245067  0.227557  0.235886   \n",
       "4     1  1990          22  0.196200  0.262200  0.251200  0.247340   \n",
       "\n",
       "   precipitation_amt_mm  reanalysis_air_temp_k  reanalysis_avg_temp_k  ...  \\\n",
       "0                 12.42             297.572857             297.742857  ...   \n",
       "1                 22.82             298.211429             298.442857  ...   \n",
       "2                 34.54             298.781429             298.878571  ...   \n",
       "3                 15.36             298.987143             299.228571  ...   \n",
       "4                  7.52             299.518571             299.664286  ...   \n",
       "\n",
       "   reanalysis_relative_humidity_percent  reanalysis_sat_precip_amt_mm  \\\n",
       "0                             73.365714                         12.42   \n",
       "1                             77.368571                         22.82   \n",
       "2                             82.052857                         34.54   \n",
       "3                             80.337143                         15.36   \n",
       "4                             80.460000                          7.52   \n",
       "\n",
       "   reanalysis_specific_humidity_g_per_kg  reanalysis_tdtr_k  \\\n",
       "0                              14.012857           2.628571   \n",
       "1                              15.372857           2.371429   \n",
       "2                              16.848571           2.300000   \n",
       "3                              16.672857           2.428571   \n",
       "4                              17.210000           3.014286   \n",
       "\n",
       "   station_avg_temp_c  station_diur_temp_rng_c  station_max_temp_c  \\\n",
       "0           25.442857                 6.900000                29.4   \n",
       "1           26.714286                 6.371429                31.7   \n",
       "2           26.714286                 6.485714                32.2   \n",
       "3           27.471429                 6.771429                33.3   \n",
       "4           28.942857                 9.371429                35.0   \n",
       "\n",
       "   station_min_temp_c  station_precip_mm  total_cases  \n",
       "0                20.0               16.0            4  \n",
       "1                22.2                8.6            5  \n",
       "2                22.8               41.4            4  \n",
       "3                23.3                4.0            3  \n",
       "4                23.9                5.8            6  \n",
       "\n",
       "[5 rows x 24 columns]"
      ]
     },
     "execution_count": 17,
     "metadata": {},
     "output_type": "execute_result"
    }
   ],
   "source": [
    "from sklearn.preprocessing import LabelEncoder\n",
    "le = LabelEncoder()\n",
    "le.fit([\"sj\",\"iq\"])\n",
    "#le.classes_\n",
    "df.city=le.transform(df.city)\n",
    "df.head()\n"
   ]
  },
  {
   "cell_type": "code",
   "execution_count": 18,
   "metadata": {},
   "outputs": [
    {
     "data": {
      "text/plain": [
       "city                                       int32\n",
       "year                                       int64\n",
       "weekofyear                                 int64\n",
       "ndvi_ne                                  float64\n",
       "ndvi_nw                                  float64\n",
       "ndvi_se                                  float64\n",
       "ndvi_sw                                  float64\n",
       "precipitation_amt_mm                     float64\n",
       "reanalysis_air_temp_k                    float64\n",
       "reanalysis_avg_temp_k                    float64\n",
       "reanalysis_dew_point_temp_k              float64\n",
       "reanalysis_max_air_temp_k                float64\n",
       "reanalysis_min_air_temp_k                float64\n",
       "reanalysis_precip_amt_kg_per_m2          float64\n",
       "reanalysis_relative_humidity_percent     float64\n",
       "reanalysis_sat_precip_amt_mm             float64\n",
       "reanalysis_specific_humidity_g_per_kg    float64\n",
       "reanalysis_tdtr_k                        float64\n",
       "station_avg_temp_c                       float64\n",
       "station_diur_temp_rng_c                  float64\n",
       "station_max_temp_c                       float64\n",
       "station_min_temp_c                       float64\n",
       "station_precip_mm                        float64\n",
       "total_cases                                int64\n",
       "dtype: object"
      ]
     },
     "execution_count": 18,
     "metadata": {},
     "output_type": "execute_result"
    }
   ],
   "source": [
    "df.dtypes"
   ]
  },
  {
   "cell_type": "markdown",
   "metadata": {},
   "source": [
    "\n",
    "\n",
    "### Prepare the Data (split into x and y)"
   ]
  },
  {
   "cell_type": "code",
   "execution_count": 19,
   "metadata": {},
   "outputs": [],
   "source": [
    "x = df.copy()\n",
    "x.drop(\"total_cases\", axis=1, inplace=True)\n",
    "y = df.total_cases"
   ]
  },
  {
   "cell_type": "code",
   "execution_count": 20,
   "metadata": {},
   "outputs": [
    {
     "data": {
      "text/plain": [
       "city                                       int32\n",
       "year                                       int64\n",
       "weekofyear                                 int64\n",
       "ndvi_ne                                  float64\n",
       "ndvi_nw                                  float64\n",
       "ndvi_se                                  float64\n",
       "ndvi_sw                                  float64\n",
       "precipitation_amt_mm                     float64\n",
       "reanalysis_air_temp_k                    float64\n",
       "reanalysis_avg_temp_k                    float64\n",
       "reanalysis_dew_point_temp_k              float64\n",
       "reanalysis_max_air_temp_k                float64\n",
       "reanalysis_min_air_temp_k                float64\n",
       "reanalysis_precip_amt_kg_per_m2          float64\n",
       "reanalysis_relative_humidity_percent     float64\n",
       "reanalysis_sat_precip_amt_mm             float64\n",
       "reanalysis_specific_humidity_g_per_kg    float64\n",
       "reanalysis_tdtr_k                        float64\n",
       "station_avg_temp_c                       float64\n",
       "station_diur_temp_rng_c                  float64\n",
       "station_max_temp_c                       float64\n",
       "station_min_temp_c                       float64\n",
       "station_precip_mm                        float64\n",
       "dtype: object"
      ]
     },
     "execution_count": 20,
     "metadata": {},
     "output_type": "execute_result"
    }
   ],
   "source": [
    "#numberical featuers (all feature should now be numerical)\n",
    "num_features = x.loc[:,(df.dtypes=='int64')|(df.dtypes=='float64')|(df.dtypes=='int32')]\n",
    "num_features.columns\n",
    "num_features.dtypes"
   ]
  },
  {
   "cell_type": "markdown",
   "metadata": {},
   "source": [
    "## Baseline Linear Regression Model\n",
    "\n",
    "Now that we've done some basic data exploration and cleaning, let's do a preliminarly linear regression before any feature engineering. This will serve as starting point. We will just take numerical features--we will explore categorical encoding a bit later on. \n",
    "\n",
    "First let's funcationalize our linear regression model.\n"
   ]
  },
  {
   "cell_type": "code",
   "execution_count": 21,
   "metadata": {},
   "outputs": [],
   "source": [
    "def lin_reg(x,y, features=[],do_scale=True, show_cm=False,normTF=True):\n",
    "    \n",
    "    if len(features)>0:\n",
    "        #print(len(features)>0)\n",
    "        x=x[features]\n",
    "    \n",
    "    x_train, x_val, y_train, y_val = train_test_split(x,y,test_size=0.2,random_state=3)\n",
    "    \n",
    "    model = LinearRegression()\n",
    "    if do_scale:\n",
    "        regressor = Pipeline(steps = [('scaler',StandardScaler()),('model',model)])\n",
    "    else:\n",
    "        regressor = Pipeline(steps = [('model',model)])\n",
    "        \n",
    "    regressor.fit(x_train,y_train)\n",
    "    y_predict = regressor.predict(x_val)\n",
    "    \n",
    "    scores = cross_val_score(regressor, x, y, cv=5, scoring='r2')\n",
    "    print(\"R2: %0.2f (+/- %0.2f)\" % (scores.mean(), scores.std() * 2))\n",
    "    \n",
    "    # Display some random validation vs predicted y pairs\n",
    "    rand_samp = list(np.random.choice(range(len(y_val)),10,replace=False))\n",
    "    y_top = np.array(y_val.iloc[rand_samp])\n",
    "    # Rounding the predicted values for display purposes\n",
    "    yp_top = np.array(y_predict[rand_samp]).round()\n",
    "    \n",
    "    Y = np.array([y_top,yp_top]).T\n",
    "    print(Y)"
   ]
  },
  {
   "cell_type": "code",
   "execution_count": 25,
   "metadata": {},
   "outputs": [],
   "source": [
    "from sklearn.tree import DecisionTreeRegressor\n",
    "\n",
    "def dtree_reg(x,y, features=[],do_scale=True, show_cm=False,normTF=True):\n",
    "    \n",
    "    if len(features)>0:\n",
    "        #print(len(features)>0)\n",
    "        x=x[features]\n",
    "    \n",
    "    x_train, x_val, y_train, y_val = train_test_split(x,y,test_size=0.2,random_state=3)\n",
    "    \n",
    "    model = DecisionTreeRegressor(random_state=3)\n",
    "    if do_scale:\n",
    "        regressor = Pipeline(steps = [('scaler',StandardScaler()),('model',model)])\n",
    "    else:\n",
    "        regressor = Pipeline(steps = [('model',model)])\n",
    "        \n",
    "    regressor.fit(x_train,y_train)\n",
    "    y_predict = regressor.predict(x_val)\n",
    "    \n",
    "    scores = cross_val_score(regressor, x, y, cv=5, scoring='r2')\n",
    "    print(\"R2: %0.2f (+/- %0.2f)\" % (scores.mean(), scores.std() * 2))\n",
    "    \n",
    "    # Display some random validation vs predicted y pairs\n",
    "    rand_samp = list(np.random.choice(range(len(y_val)),10,replace=False))\n",
    "    y_top = np.array(y_val.iloc[rand_samp])\n",
    "    # Rounding the predicted values for display purposes\n",
    "    yp_top = np.array(y_predict[rand_samp]).round()\n",
    "    \n",
    "    Y = np.array([y_top,yp_top]).T\n",
    "    print(Y)"
   ]
  },
  {
   "cell_type": "code",
   "execution_count": 23,
   "metadata": {},
   "outputs": [
    {
     "name": "stdout",
     "output_type": "stream",
     "text": [
      "R2: -0.48 (+/- 1.27)\n",
      "[[ 4. 29.]\n",
      " [13. 38.]\n",
      " [18. 47.]\n",
      " [65. 56.]\n",
      " [11. 10.]\n",
      " [38. 42.]\n",
      " [ 3. 35.]\n",
      " [ 4. -6.]\n",
      " [14. 37.]\n",
      " [ 6. -2.]]\n"
     ]
    }
   ],
   "source": [
    "# Baseline Linear regression, no bell/whistles, to get a starting point\n",
    "# all numerical features\n",
    "lin_reg(x,y)"
   ]
  },
  {
   "cell_type": "code",
   "execution_count": 27,
   "metadata": {},
   "outputs": [
    {
     "name": "stdout",
     "output_type": "stream",
     "text": [
      "R2: -0.83 (+/- 1.46)\n",
      "[[ 0.  1.]\n",
      " [48. 60.]\n",
      " [ 2. 22.]\n",
      " [ 0.  0.]\n",
      " [ 0.  1.]\n",
      " [10.  5.]\n",
      " [29. 30.]\n",
      " [ 0.  9.]\n",
      " [ 0.  3.]\n",
      " [12. 16.]]\n"
     ]
    }
   ],
   "source": [
    "dtree_reg(x,y)"
   ]
  },
  {
   "cell_type": "markdown",
   "metadata": {},
   "source": [
    "So, we're clearly starting from a place of poor prediction. Plenty of room for improvement!\n",
    "\n",
    "The plan going forward is to:\n",
    "* Perform categorical encoding for our categorical feature\n",
    "* Engineer some features\n",
    "* Explore some other regression models and choose 2-3 to fine-tune\n",
    "* Optimize our chosen models using regularization and gridsearc"
   ]
  },
  {
   "cell_type": "markdown",
   "metadata": {},
   "source": [
    "## Feature Engineering\n",
    "\n",
    "The first feature to engineer is an obvious one: number of case for the same city in the previous year. While we are at it, we could do it for a range of previous years. Lets limit it at 3.  The year range for this data is 1990-2010. So if we want to do a feature for each of the 3 previous year, problems arrise for 1990, 1991,and 1992. 1991 and 92 both have data avaible for **one** year previous, but 92 does not have data for **three** years previous, and and 91 does not for **two or three** years prior. So those years will have to be dealt with differently.  "
   ]
  },
  {
   "cell_type": "code",
   "execution_count": null,
   "metadata": {},
   "outputs": [],
   "source": [
    "df.sample(5)\n",
    "_=df.set_index(['city','year','weekofyear'])\n",
    "# Only data 1993 and later\n",
    "#case_1prior = df_1993"
   ]
  },
  {
   "cell_type": "code",
   "execution_count": null,
   "metadata": {},
   "outputs": [],
   "source": [
    "for y in range(1993,2010):\n",
    "    print(y)"
   ]
  },
  {
   "cell_type": "code",
   "execution_count": null,
   "metadata": {},
   "outputs": [],
   "source": []
  },
  {
   "cell_type": "markdown",
   "metadata": {},
   "source": [
    "## Model Selection\n",
    "\n",
    "We will contiue to explore the linear regression model (lasso/ridge/elasticnet regularization explored later), but well will also investicate SVMs, Naive Bayes, Decision Trees. Ensemble methods will be exlored later on.  "
   ]
  },
  {
   "cell_type": "code",
   "execution_count": null,
   "metadata": {},
   "outputs": [],
   "source": []
  }
 ],
 "metadata": {
  "kernelspec": {
   "display_name": "Python 3",
   "language": "python",
   "name": "python3"
  },
  "language_info": {
   "codemirror_mode": {
    "name": "ipython",
    "version": 3
   },
   "file_extension": ".py",
   "mimetype": "text/x-python",
   "name": "python",
   "nbconvert_exporter": "python",
   "pygments_lexer": "ipython3",
   "version": "3.7.1"
  }
 },
 "nbformat": 4,
 "nbformat_minor": 2
}

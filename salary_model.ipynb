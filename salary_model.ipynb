{
 "cells": [
  {
   "cell_type": "code",
   "execution_count": 1,
   "metadata": {},
   "outputs": [],
   "source": [
    "import numpy as np # linear algebra\n",
    "import pandas as pd # data processing, CSV file I/O (e.g. pd.read_csv)\n",
    "import os, platform\n",
    "import matplotlib\n",
    "import matplotlib.pyplot as plt\n",
    "import seaborn as sn\n",
    "%matplotlib inline"
   ]
  },
  {
   "cell_type": "code",
   "execution_count": 2,
   "metadata": {},
   "outputs": [
    {
     "name": "stdout",
     "output_type": "stream",
     "text": [
      "System\n",
      "os name: nt\n",
      "system: Windows\n",
      "release: 10\n",
      "\n",
      "Python Packages\n",
      "pandas==0.24.2\n",
      "numpy==1.16.4\n",
      "matplotlib==2.2.2\n",
      "seaborn==0.9.0\n"
     ]
    }
   ],
   "source": [
    "print(\"System\")\n",
    "print(\"os name: %s\" % os.name)\n",
    "print(\"system: %s\" % platform.system())\n",
    "print(\"release: %s\" % platform.release())\n",
    "print()\n",
    "#print(\"Python\")\n",
    "#print(\"version: %s\" % python_version())\n",
    "print(\"Python Packages\")\n",
    "print(\"pandas==%s\" % pd.__version__)\n",
    "print(\"numpy==%s\" % np.__version__)\n",
    "print(\"matplotlib==%s\" % matplotlib.__version__)\n",
    "print(\"seaborn==%s\" % sn.__version__)"
   ]
  },
  {
   "cell_type": "code",
   "execution_count": 8,
   "metadata": {},
   "outputs": [],
   "source": [
    "df_o = pd.read_csv(os.path.join(os.getcwd(),\"Salaries.csv\"))"
   ]
  },
  {
   "cell_type": "code",
   "execution_count": 11,
   "metadata": {},
   "outputs": [
    {
     "data": {
      "text/html": [
       "<div>\n",
       "<style scoped>\n",
       "    .dataframe tbody tr th:only-of-type {\n",
       "        vertical-align: middle;\n",
       "    }\n",
       "\n",
       "    .dataframe tbody tr th {\n",
       "        vertical-align: top;\n",
       "    }\n",
       "\n",
       "    .dataframe thead th {\n",
       "        text-align: right;\n",
       "    }\n",
       "</style>\n",
       "<table border=\"1\" class=\"dataframe\">\n",
       "  <thead>\n",
       "    <tr style=\"text-align: right;\">\n",
       "      <th></th>\n",
       "      <th>rank</th>\n",
       "      <th>discipline</th>\n",
       "      <th>yrs.since.phd</th>\n",
       "      <th>yrs.service</th>\n",
       "      <th>sex</th>\n",
       "      <th>salary</th>\n",
       "    </tr>\n",
       "  </thead>\n",
       "  <tbody>\n",
       "    <tr>\n",
       "      <th>76</th>\n",
       "      <td>Prof</td>\n",
       "      <td>B</td>\n",
       "      <td>17</td>\n",
       "      <td>3</td>\n",
       "      <td>Male</td>\n",
       "      <td>150480</td>\n",
       "    </tr>\n",
       "    <tr>\n",
       "      <th>50</th>\n",
       "      <td>Prof</td>\n",
       "      <td>B</td>\n",
       "      <td>28</td>\n",
       "      <td>28</td>\n",
       "      <td>Male</td>\n",
       "      <td>126621</td>\n",
       "    </tr>\n",
       "    <tr>\n",
       "      <th>136</th>\n",
       "      <td>Prof</td>\n",
       "      <td>A</td>\n",
       "      <td>16</td>\n",
       "      <td>14</td>\n",
       "      <td>Male</td>\n",
       "      <td>108262</td>\n",
       "    </tr>\n",
       "    <tr>\n",
       "      <th>382</th>\n",
       "      <td>AssocProf</td>\n",
       "      <td>A</td>\n",
       "      <td>8</td>\n",
       "      <td>5</td>\n",
       "      <td>Male</td>\n",
       "      <td>86895</td>\n",
       "    </tr>\n",
       "    <tr>\n",
       "      <th>32</th>\n",
       "      <td>Prof</td>\n",
       "      <td>B</td>\n",
       "      <td>13</td>\n",
       "      <td>9</td>\n",
       "      <td>Male</td>\n",
       "      <td>117256</td>\n",
       "    </tr>\n",
       "  </tbody>\n",
       "</table>\n",
       "</div>"
      ],
      "text/plain": [
       "          rank discipline  yrs.since.phd  yrs.service   sex  salary\n",
       "76        Prof          B             17            3  Male  150480\n",
       "50        Prof          B             28           28  Male  126621\n",
       "136       Prof          A             16           14  Male  108262\n",
       "382  AssocProf          A              8            5  Male   86895\n",
       "32        Prof          B             13            9  Male  117256"
      ]
     },
     "execution_count": 11,
     "metadata": {},
     "output_type": "execute_result"
    }
   ],
   "source": [
    "# Make a Working Copy\n",
    "df = df_o.copy()\n",
    "df.sample(5)"
   ]
  },
  {
   "cell_type": "markdown",
   "metadata": {},
   "source": [
    "## Data Cleaning\n"
   ]
  },
  {
   "cell_type": "code",
   "execution_count": 13,
   "metadata": {},
   "outputs": [
    {
     "name": "stdout",
     "output_type": "stream",
     "text": [
      "(397, 6)\n",
      "        title discipline  years_phd  years_service     sex  salary\n",
      "2    AsstProf          B          4              3    Male   79750\n",
      "11   AsstProf          B          7              2    Male   79800\n",
      "12   AsstProf          B          1              1    Male   77700\n",
      "13   AsstProf          B          2              0    Male   78000\n",
      "27   AsstProf          B          5              3    Male   82379\n",
      "28   AsstProf          B         11              0    Male   77000\n",
      "31   AsstProf          B          7              2    Male   79916\n",
      "33   AsstProf          B          4              2    Male   80225\n",
      "34   AsstProf          B          4              2  Female   80225\n",
      "35   AsstProf          B          5              0  Female   77000\n",
      "37   AsstProf          B          7              4    Male   86373\n",
      "49   AsstProf          B          1              1    Male   70768\n",
      "52   AsstProf          B         11              3  Female   74692\n",
      "59   AsstProf          B          8              3    Male   75044\n",
      "61   AsstProf          B          3              2    Male   75243\n",
      "64   AsstProf          B          4              3    Male   68404\n",
      "75   AsstProf          B          8              3    Male   73266\n",
      "78   AsstProf          B          3              1    Male   86100\n",
      "79   AsstProf          B          6              2    Male   84240\n",
      "83   AsstProf          B          6              2    Male   88825\n",
      "87   AsstProf          B          2              2    Male   88400\n",
      "95   AsstProf          B          4              0    Male   84000\n",
      "112  AsstProf          A          3              1    Male   72500\n",
      "118  AsstProf          A          4              1    Male   72500\n",
      "119  AsstProf          A          5              3  Female   73500\n",
      "127  AsstProf          A          2              0  Female   72500\n",
      "129  AsstProf          A          4              2    Male   73000\n",
      "133  AsstProf          A          3              1  Female   72500\n",
      "143  AsstProf          B          3              3    Male   89942\n",
      "146  AsstProf          B          4              4    Male   92000\n",
      "..        ...        ...        ...            ...     ...     ...\n",
      "157  AsstProf          B          1              0    Male   88000\n",
      "160  AsstProf          B          2              2    Male   89516\n",
      "163  AsstProf          B          3              3    Male   89942\n",
      "164  AsstProf          B          1              0    Male   88795\n",
      "179  AsstProf          B          3              3  Female   92000\n",
      "196  AsstProf          B          4              4    Male   92700\n",
      "197  AsstProf          B          4              4    Male   92000\n",
      "200  AsstProf          B          4              4    Male   92700\n",
      "208  AsstProf          B          7              2    Male   91300\n",
      "210  AsstProf          B          4              3    Male   91000\n",
      "226  AsstProf          A          3              1    Male   63900\n",
      "234  AsstProf          A          8              3    Male   69700\n",
      "240  AsstProf          A          5              3    Male   69200\n",
      "253  AsstProf          A          4              2  Female   77500\n",
      "258  AsstProf          A          9              3    Male   73800\n",
      "272  AsstProf          A          4              1    Male   73000\n",
      "273  AsstProf          A          8              4    Male   74000\n",
      "274  AsstProf          A          8              3  Female   78500\n",
      "287  AsstProf          A          2              0    Male   85000\n",
      "306  AsstProf          A          7              4    Male   74500\n",
      "308  AsstProf          A          5              0    Male   74000\n",
      "315  AsstProf          B          6              3    Male   84716\n",
      "325  AsstProf          B          8              4    Male   84500\n",
      "348  AsstProf          B          4              3    Male   80139\n",
      "354  AsstProf          B          8              1    Male   83600\n",
      "359  AsstProf          A         11              4    Male   78785\n",
      "376  AsstProf          A          4              1    Male   74856\n",
      "377  AsstProf          A          6              3    Male   77081\n",
      "380  AsstProf          A          8              3    Male   75996\n",
      "396  AsstProf          A          8              4    Male   81035\n",
      "\n",
      "[63 rows x 6 columns]\n",
      "63\n"
     ]
    }
   ],
   "source": [
    "num_all_records = len(df) # 397\n",
    "print(df.shape) # (397,6)\n",
    "\n",
    "# filter dataframe for rank == AsstProf and yrs.service <5\n",
    "\n",
    "# Rename the columns/variables with dots, for convenience\n",
    "# Renamed \"rank\" to \"title\" due to confile with \"rank\" used a df method\n",
    "df.rename(columns={\"yrs.since.phd\":\"years_phd\",\"yrs.service\":\"years_service\",\"rank\":\"title\"}, inplace=True)\n",
    "df.columns\n",
    "\n",
    "# Check to make sure consistent entry for the rank and years_service variables\n",
    "df[\"title\"].value_counts()\n",
    "df[\"years_service\"].value_counts()\n",
    "\n",
    "# Filter and count number of entries\n",
    "df_filt1 = df.loc[(df.title==\"AsstProf\") & (df.years_service<5)]\n",
    "print(df_filt1)\n",
    "print(len(df_filt1))\n",
    "num_filterd = len(df_filt1)\n",
    "percentage = (num_filterd / num_all_records) * 100"
   ]
  },
  {
   "cell_type": "code",
   "execution_count": null,
   "metadata": {},
   "outputs": [],
   "source": []
  }
 ],
 "metadata": {
  "kernelspec": {
   "display_name": "Python 3",
   "language": "python",
   "name": "python3"
  },
  "language_info": {
   "codemirror_mode": {
    "name": "ipython",
    "version": 3
   },
   "file_extension": ".py",
   "mimetype": "text/x-python",
   "name": "python",
   "nbconvert_exporter": "python",
   "pygments_lexer": "ipython3",
   "version": "3.7.1"
  }
 },
 "nbformat": 4,
 "nbformat_minor": 2
}
